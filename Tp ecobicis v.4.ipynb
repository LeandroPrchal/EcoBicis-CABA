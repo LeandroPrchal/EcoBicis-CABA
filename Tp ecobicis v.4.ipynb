{
 "cells": [
  {
   "cell_type": "markdown",
   "metadata": {},
   "source": [
    "# TP Ciencia de datos - Grupo 4 - 2019 \n",
    "\n",
    "\n",
    "#### Alumnos: Herman, Luka / Prchal, Leandro\n",
    "\n",
    "###### Mentor: Magallanes, Hernan"
   ]
  },
  {
   "cell_type": "markdown",
   "metadata": {},
   "source": [
    "Temario\n",
    "\n",
    "1.  Seleccion de Data Set y Dimensionamiento\n",
    " \n",
    " \n",
    "2.  Analisis Exploratorio de Datos (EDA)\n",
    "\n",
    "\n",
    "3. Reduccion de muestra para aplicarcion de ML\n",
    "\n",
    "\n",
    "4. Aplicacion de Aprendisaje supervisado : SVM con Cross Validation + KNN"
   ]
  },
  {
   "cell_type": "markdown",
   "metadata": {},
   "source": [
    "# 1 - Seleccion de Data Set (EcoBicis 2018 - GCBA) y Dimensionamiento"
   ]
  },
  {
   "cell_type": "code",
   "execution_count": 1,
   "metadata": {},
   "outputs": [],
   "source": [
    "import pandas as pd\n",
    "import numpy as np\n",
    "import matplotlib.pyplot as plt\n",
    "import seaborn as sns\n",
    "import datetime as dt\n",
    "from sklearn import preprocessing"
   ]
  },
  {
   "cell_type": "code",
   "execution_count": 2,
   "metadata": {},
   "outputs": [],
   "source": [
    "bicis = pd.read_csv(r'C:\\Users\\Leandro\\Desktop\\UTN\\Ciencia de Datos\\TP Bicicletas publicas\\recorridos-realizados-2018.csv', delimiter=',')"
   ]
  },
  {
   "cell_type": "code",
   "execution_count": 3,
   "metadata": {},
   "outputs": [
    {
     "data": {
      "text/plain": [
       "(2619968, 9)"
      ]
     },
     "execution_count": 3,
     "metadata": {},
     "output_type": "execute_result"
    }
   ],
   "source": [
    "np.shape(bicis)"
   ]
  },
  {
   "cell_type": "code",
   "execution_count": 4,
   "metadata": {
    "scrolled": false
   },
   "outputs": [
    {
     "data": {
      "text/html": [
       "<div>\n",
       "<style scoped>\n",
       "    .dataframe tbody tr th:only-of-type {\n",
       "        vertical-align: middle;\n",
       "    }\n",
       "\n",
       "    .dataframe tbody tr th {\n",
       "        vertical-align: top;\n",
       "    }\n",
       "\n",
       "    .dataframe thead th {\n",
       "        text-align: right;\n",
       "    }\n",
       "</style>\n",
       "<table border=\"1\" class=\"dataframe\">\n",
       "  <thead>\n",
       "    <tr style=\"text-align: right;\">\n",
       "      <th></th>\n",
       "      <th>bici_id_usuario</th>\n",
       "      <th>bici_Fecha_hora_retiro</th>\n",
       "      <th>bici_tiempo_uso</th>\n",
       "      <th>bici_nombre_estacion_origen</th>\n",
       "      <th>bici_estacion_origen</th>\n",
       "      <th>bici_nombre_estacion_destino</th>\n",
       "      <th>bici_estacion_destino</th>\n",
       "      <th>bici_sexo</th>\n",
       "      <th>bici_edad</th>\n",
       "    </tr>\n",
       "  </thead>\n",
       "  <tbody>\n",
       "    <tr>\n",
       "      <th>0</th>\n",
       "      <td>5453</td>\n",
       "      <td>2018-01-01 00:08:05</td>\n",
       "      <td>0 days 00:19:53.000000000</td>\n",
       "      <td>Uruguay</td>\n",
       "      <td>45</td>\n",
       "      <td>Virrey Cevallos</td>\n",
       "      <td>183</td>\n",
       "      <td>M</td>\n",
       "      <td>45</td>\n",
       "    </tr>\n",
       "    <tr>\n",
       "      <th>1</th>\n",
       "      <td>673</td>\n",
       "      <td>2018-01-01 00:18:05</td>\n",
       "      <td>0 days 00:26:19.000000000</td>\n",
       "      <td>Posadas</td>\n",
       "      <td>189</td>\n",
       "      <td>Guardia Vieja</td>\n",
       "      <td>110</td>\n",
       "      <td>M</td>\n",
       "      <td>61</td>\n",
       "    </tr>\n",
       "    <tr>\n",
       "      <th>2</th>\n",
       "      <td>179119</td>\n",
       "      <td>2018-01-01 00:20:14</td>\n",
       "      <td>0 days 00:27:39.000000000</td>\n",
       "      <td>Hospital Rivadavia</td>\n",
       "      <td>50</td>\n",
       "      <td>Padilla</td>\n",
       "      <td>31</td>\n",
       "      <td>F</td>\n",
       "      <td>52</td>\n",
       "    </tr>\n",
       "    <tr>\n",
       "      <th>3</th>\n",
       "      <td>400147</td>\n",
       "      <td>2018-01-01 00:20:22</td>\n",
       "      <td>0 days 00:48:51.000000000</td>\n",
       "      <td>Macacha Güemes</td>\n",
       "      <td>111</td>\n",
       "      <td>Acuña de Figueroa</td>\n",
       "      <td>54</td>\n",
       "      <td>M</td>\n",
       "      <td>27</td>\n",
       "    </tr>\n",
       "    <tr>\n",
       "      <th>4</th>\n",
       "      <td>400156</td>\n",
       "      <td>2018-01-01 00:20:31</td>\n",
       "      <td>0 days 00:49:27.000000000</td>\n",
       "      <td>Macacha Güemes</td>\n",
       "      <td>111</td>\n",
       "      <td>Acuña de Figueroa</td>\n",
       "      <td>54</td>\n",
       "      <td>F</td>\n",
       "      <td>27</td>\n",
       "    </tr>\n",
       "  </tbody>\n",
       "</table>\n",
       "</div>"
      ],
      "text/plain": [
       "   bici_id_usuario bici_Fecha_hora_retiro            bici_tiempo_uso  \\\n",
       "0             5453    2018-01-01 00:08:05  0 days 00:19:53.000000000   \n",
       "1              673    2018-01-01 00:18:05  0 days 00:26:19.000000000   \n",
       "2           179119    2018-01-01 00:20:14  0 days 00:27:39.000000000   \n",
       "3           400147    2018-01-01 00:20:22  0 days 00:48:51.000000000   \n",
       "4           400156    2018-01-01 00:20:31  0 days 00:49:27.000000000   \n",
       "\n",
       "  bici_nombre_estacion_origen  bici_estacion_origen  \\\n",
       "0                     Uruguay                    45   \n",
       "1                     Posadas                   189   \n",
       "2          Hospital Rivadavia                    50   \n",
       "3              Macacha Güemes                   111   \n",
       "4              Macacha Güemes                   111   \n",
       "\n",
       "  bici_nombre_estacion_destino  bici_estacion_destino bici_sexo  bici_edad  \n",
       "0              Virrey Cevallos                    183         M         45  \n",
       "1                Guardia Vieja                    110         M         61  \n",
       "2                      Padilla                     31         F         52  \n",
       "3            Acuña de Figueroa                     54         M         27  \n",
       "4            Acuña de Figueroa                     54         F         27  "
      ]
     },
     "execution_count": 4,
     "metadata": {},
     "output_type": "execute_result"
    }
   ],
   "source": [
    "bicis.head()"
   ]
  },
  {
   "cell_type": "markdown",
   "metadata": {},
   "source": [
    "\n",
    "# 2 - Analisis Exploratorio de Datos (EDA)"
   ]
  },
  {
   "cell_type": "code",
   "execution_count": 5,
   "metadata": {},
   "outputs": [
    {
     "data": {
      "text/plain": [
       "Index(['bici_id_usuario', 'bici_Fecha_hora_retiro', 'bici_tiempo_uso',\n",
       "       'bici_nombre_estacion_origen', 'bici_estacion_origen',\n",
       "       'bici_nombre_estacion_destino', 'bici_estacion_destino', 'bici_sexo',\n",
       "       'bici_edad'],\n",
       "      dtype='object')"
      ]
     },
     "execution_count": 5,
     "metadata": {},
     "output_type": "execute_result"
    }
   ],
   "source": [
    "columnas_bicis = bicis.columns\n",
    "columnas_bicis"
   ]
  },
  {
   "cell_type": "code",
   "execution_count": 6,
   "metadata": {},
   "outputs": [
    {
     "name": "stdout",
     "output_type": "stream",
     "text": [
      "bici_id_usuario                 False\n",
      "bici_Fecha_hora_retiro          False\n",
      "bici_tiempo_uso                  True\n",
      "bici_nombre_estacion_origen     False\n",
      "bici_estacion_origen            False\n",
      "bici_nombre_estacion_destino    False\n",
      "bici_estacion_destino           False\n",
      "bici_sexo                       False\n",
      "bici_edad                       False\n",
      "dtype: bool \r\n",
      "\n"
     ]
    }
   ],
   "source": [
    "# Busqueda de Nans\n",
    "col_NaN = bicis.isnull().any()\n",
    "print(col_NaN,'\\r\\n')"
   ]
  },
  {
   "cell_type": "code",
   "execution_count": 7,
   "metadata": {},
   "outputs": [],
   "source": [
    "# Se elimnan los Nans\n",
    "bicis.dropna(how ='any', inplace = True)"
   ]
  },
  {
   "cell_type": "code",
   "execution_count": 8,
   "metadata": {},
   "outputs": [
    {
     "data": {
      "text/plain": [
       "(2576245, 9)"
      ]
     },
     "execution_count": 8,
     "metadata": {},
     "output_type": "execute_result"
    }
   ],
   "source": [
    "# Tamaño de muestra despues de eliminar los nulls\n",
    "np.shape(bicis)"
   ]
  },
  {
   "cell_type": "code",
   "execution_count": 9,
   "metadata": {
    "scrolled": true
   },
   "outputs": [
    {
     "data": {
      "image/png": "[encoded data removed]",
      "text/plain": [
       "<Figure size 432x288 with 1 Axes>"
      ]
     },
     "metadata": {
      "needs_background": "light"
     },
     "output_type": "display_data"
    }
   ],
   "source": [
    "# Se grafica Cantidad de viajes por sexo\n",
    "sns.set_context(\"talk\")\n",
    "az = sns.countplot(x=\"bici_sexo\", data=bicis)\n",
    "plt.xticks(rotation=45)\n",
    "plt.title(\"Viajes en bicis por sexo\")\n",
    "plt.show()"
   ]
  },
  {
   "cell_type": "code",
   "execution_count": 10,
   "metadata": {},
   "outputs": [
    {
     "data": {
      "text/plain": [
       "2576245"
      ]
     },
     "execution_count": 10,
     "metadata": {},
     "output_type": "execute_result"
    }
   ],
   "source": [
    "tot = bicis['bici_sexo'].count()\n",
    "tot = int(tot)\n",
    "tot"
   ]
  },
  {
   "cell_type": "code",
   "execution_count": 11,
   "metadata": {},
   "outputs": [
    {
     "data": {
      "text/plain": [
       "0    1\n",
       "1    1\n",
       "2    0\n",
       "3    1\n",
       "4    0\n",
       "Name: bici_sexo, dtype: int32"
      ]
     },
     "execution_count": 11,
     "metadata": {},
     "output_type": "execute_result"
    }
   ],
   "source": [
    "leSexo = preprocessing.LabelEncoder()\n",
    "bicis['bici_sexo'] = leSexo.fit_transform(bicis['bici_sexo'])\n",
    "# 1 es Masculino, 0 es Femenino y 2 es No definido\n",
    "bicis['bici_sexo'].head()"
   ]
  },
  {
   "cell_type": "code",
   "execution_count": 12,
   "metadata": {
    "scrolled": true
   },
   "outputs": [
    {
     "data": {
      "text/plain": [
       "1    1850204\n",
       "0     725973\n",
       "2         68\n",
       "Name: bici_sexo, dtype: int64"
      ]
     },
     "execution_count": 12,
     "metadata": {},
     "output_type": "execute_result"
    }
   ],
   "source": [
    "bicis['bici_sexo'].value_counts()"
   ]
  },
  {
   "cell_type": "code",
   "execution_count": 13,
   "metadata": {},
   "outputs": [
    {
     "data": {
      "text/plain": [
       "71.81785893810564"
      ]
     },
     "execution_count": 13,
     "metadata": {},
     "output_type": "execute_result"
    }
   ],
   "source": [
    "Porc_M = (1850204 / tot) *100\n",
    "Porc_M"
   ]
  },
  {
   "cell_type": "code",
   "execution_count": 14,
   "metadata": {},
   "outputs": [
    {
     "data": {
      "text/plain": [
       "28.179501561381002"
      ]
     },
     "execution_count": 14,
     "metadata": {},
     "output_type": "execute_result"
    }
   ],
   "source": [
    "Porc_F = (725973 / tot) *100\n",
    "Porc_F"
   ]
  },
  {
   "cell_type": "code",
   "execution_count": 15,
   "metadata": {},
   "outputs": [
    {
     "data": {
      "text/plain": [
       "0.002639500513344034"
      ]
     },
     "execution_count": 15,
     "metadata": {},
     "output_type": "execute_result"
    }
   ],
   "source": [
    "Porc_N = (68 / tot) *100\n",
    "Porc_N"
   ]
  },
  {
   "cell_type": "code",
   "execution_count": 16,
   "metadata": {},
   "outputs": [
    {
     "data": {
      "text/plain": [
       "count    2.576245e+06\n",
       "mean     3.324418e+01\n",
       "std      1.112505e+01\n",
       "min      1.600000e+01\n",
       "25%      2.500000e+01\n",
       "50%      3.000000e+01\n",
       "75%      3.900000e+01\n",
       "max      1.400000e+02\n",
       "Name: bici_edad, dtype: float64"
      ]
     },
     "execution_count": 16,
     "metadata": {},
     "output_type": "execute_result"
    }
   ],
   "source": [
    "# Busco los cuartiles de la edad de los usuarios\n",
    "bicis['bici_edad'].describe()"
   ]
  },
  {
   "cell_type": "code",
   "execution_count": 17,
   "metadata": {},
   "outputs": [
    {
     "name": "stderr",
     "output_type": "stream",
     "text": [
      "No handles with labels found to put in legend.\n"
     ]
    },
    {
     "data": {
      "image/png": "[encoded data removed]",
      "text/plain": [
       "<Figure size 432x288 with 1 Axes>"
      ]
     },
     "metadata": {
      "needs_background": "light"
     },
     "output_type": "display_data"
    }
   ],
   "source": [
    "# Grafico distribucion de edad de usuarios\n",
    "sns.distplot(bicis.bici_edad )\n",
    "plt.title(\" Edad \")\n",
    "plt.legend()\n",
    "plt.show()"
   ]
  },
  {
   "cell_type": "code",
   "execution_count": 18,
   "metadata": {},
   "outputs": [
    {
     "data": {
      "text/html": [
       "<div>\n",
       "<style scoped>\n",
       "    .dataframe tbody tr th:only-of-type {\n",
       "        vertical-align: middle;\n",
       "    }\n",
       "\n",
       "    .dataframe tbody tr th {\n",
       "        vertical-align: top;\n",
       "    }\n",
       "\n",
       "    .dataframe thead th {\n",
       "        text-align: right;\n",
       "    }\n",
       "</style>\n",
       "<table border=\"1\" class=\"dataframe\">\n",
       "  <thead>\n",
       "    <tr style=\"text-align: right;\">\n",
       "      <th></th>\n",
       "      <th>0</th>\n",
       "      <th>1</th>\n",
       "      <th>2</th>\n",
       "      <th>3</th>\n",
       "      <th>4</th>\n",
       "      <th>5</th>\n",
       "      <th>6</th>\n",
       "      <th>7</th>\n",
       "    </tr>\n",
       "  </thead>\n",
       "  <tbody>\n",
       "    <tr>\n",
       "      <th>0</th>\n",
       "      <td></td>\n",
       "      <td>0</td>\n",
       "      <td></td>\n",
       "      <td>d</td>\n",
       "      <td>a</td>\n",
       "      <td>y</td>\n",
       "      <td>s</td>\n",
       "      <td>00:19:53.000000000</td>\n",
       "    </tr>\n",
       "    <tr>\n",
       "      <th>1</th>\n",
       "      <td></td>\n",
       "      <td>0</td>\n",
       "      <td></td>\n",
       "      <td>d</td>\n",
       "      <td>a</td>\n",
       "      <td>y</td>\n",
       "      <td>s</td>\n",
       "      <td>00:26:19.000000000</td>\n",
       "    </tr>\n",
       "    <tr>\n",
       "      <th>2</th>\n",
       "      <td></td>\n",
       "      <td>0</td>\n",
       "      <td></td>\n",
       "      <td>d</td>\n",
       "      <td>a</td>\n",
       "      <td>y</td>\n",
       "      <td>s</td>\n",
       "      <td>00:27:39.000000000</td>\n",
       "    </tr>\n",
       "    <tr>\n",
       "      <th>3</th>\n",
       "      <td></td>\n",
       "      <td>0</td>\n",
       "      <td></td>\n",
       "      <td>d</td>\n",
       "      <td>a</td>\n",
       "      <td>y</td>\n",
       "      <td>s</td>\n",
       "      <td>00:48:51.000000000</td>\n",
       "    </tr>\n",
       "    <tr>\n",
       "      <th>4</th>\n",
       "      <td></td>\n",
       "      <td>0</td>\n",
       "      <td></td>\n",
       "      <td>d</td>\n",
       "      <td>a</td>\n",
       "      <td>y</td>\n",
       "      <td>s</td>\n",
       "      <td>00:49:27.000000000</td>\n",
       "    </tr>\n",
       "  </tbody>\n",
       "</table>\n",
       "</div>"
      ],
      "text/plain": [
       "  0  1  2  3  4  5  6                    7\n",
       "0    0     d  a  y  s   00:19:53.000000000\n",
       "1    0     d  a  y  s   00:26:19.000000000\n",
       "2    0     d  a  y  s   00:27:39.000000000\n",
       "3    0     d  a  y  s   00:48:51.000000000\n",
       "4    0     d  a  y  s   00:49:27.000000000"
      ]
     },
     "execution_count": 18,
     "metadata": {},
     "output_type": "execute_result"
    }
   ],
   "source": [
    "# Los datos de tiempo de uso estan en formato string -> los paso a formato numerico para poder operarlos\n",
    "TdU= bicis['bici_tiempo_uso'].str.split(\"\",n=7,expand = True)\n",
    "TdU.head()"
   ]
  },
  {
   "cell_type": "code",
   "execution_count": 19,
   "metadata": {},
   "outputs": [],
   "source": [
    "minutos = TdU.iloc[:,7].str.slice(4,6,1).astype(int)\n",
    "horas = TdU.iloc[:,7].str.slice(0,3,1).astype(int)\n",
    "mins_tot = horas*60 + minutos"
   ]
  },
  {
   "cell_type": "code",
   "execution_count": 20,
   "metadata": {},
   "outputs": [
    {
     "data": {
      "text/plain": [
       "0    19\n",
       "1    26\n",
       "2    27\n",
       "3    48\n",
       "4    49\n",
       "Name: 7, dtype: int32"
      ]
     },
     "execution_count": 20,
     "metadata": {},
     "output_type": "execute_result"
    }
   ],
   "source": [
    "#Muestro todos los tiempos de uso expresados en minutos totales por viaje\n",
    "mins_tot.head()"
   ]
  },
  {
   "cell_type": "code",
   "execution_count": 21,
   "metadata": {},
   "outputs": [
    {
     "data": {
      "text/plain": [
       "count    2.576245e+06\n",
       "mean     2.527956e+01\n",
       "std      2.286918e+01\n",
       "min      5.000000e+00\n",
       "25%      1.100000e+01\n",
       "50%      1.800000e+01\n",
       "75%      3.000000e+01\n",
       "max      1.800000e+02\n",
       "Name: 7, dtype: float64"
      ]
     },
     "execution_count": 21,
     "metadata": {},
     "output_type": "execute_result"
    }
   ],
   "source": [
    "mins_tot.describe()"
   ]
  },
  {
   "cell_type": "code",
   "execution_count": 22,
   "metadata": {
    "scrolled": true
   },
   "outputs": [
    {
     "name": "stderr",
     "output_type": "stream",
     "text": [
      "No handles with labels found to put in legend.\n"
     ]
    },
    {
     "data": {
      "image/png": "[encoded data removed]",
      "text/plain": [
       "<Figure size 432x288 with 1 Axes>"
      ]
     },
     "metadata": {
      "needs_background": "light"
     },
     "output_type": "display_data"
    }
   ],
   "source": [
    "# Grafico distribucion de minutos de uso por viaje\n",
    "sns.distplot(mins_tot)\n",
    "plt.title(\"Minutos de uso\")\n",
    "plt.legend()\n",
    "plt.show()"
   ]
  },
  {
   "cell_type": "code",
   "execution_count": 23,
   "metadata": {},
   "outputs": [
    {
     "data": {
      "text/html": [
       "<div>\n",
       "<style scoped>\n",
       "    .dataframe tbody tr th:only-of-type {\n",
       "        vertical-align: middle;\n",
       "    }\n",
       "\n",
       "    .dataframe tbody tr th {\n",
       "        vertical-align: top;\n",
       "    }\n",
       "\n",
       "    .dataframe thead th {\n",
       "        text-align: right;\n",
       "    }\n",
       "</style>\n",
       "<table border=\"1\" class=\"dataframe\">\n",
       "  <thead>\n",
       "    <tr style=\"text-align: right;\">\n",
       "      <th></th>\n",
       "      <th>0</th>\n",
       "      <th>1</th>\n",
       "      <th>2</th>\n",
       "      <th>3</th>\n",
       "      <th>4</th>\n",
       "      <th>5</th>\n",
       "      <th>6</th>\n",
       "      <th>7</th>\n",
       "      <th>8</th>\n",
       "      <th>9</th>\n",
       "      <th>10</th>\n",
       "      <th>11</th>\n",
       "    </tr>\n",
       "  </thead>\n",
       "  <tbody>\n",
       "    <tr>\n",
       "      <th>0</th>\n",
       "      <td></td>\n",
       "      <td>2</td>\n",
       "      <td>0</td>\n",
       "      <td>1</td>\n",
       "      <td>8</td>\n",
       "      <td>-</td>\n",
       "      <td>0</td>\n",
       "      <td>1</td>\n",
       "      <td>-</td>\n",
       "      <td>0</td>\n",
       "      <td>1</td>\n",
       "      <td>00:08:05</td>\n",
       "    </tr>\n",
       "    <tr>\n",
       "      <th>1</th>\n",
       "      <td></td>\n",
       "      <td>2</td>\n",
       "      <td>0</td>\n",
       "      <td>1</td>\n",
       "      <td>8</td>\n",
       "      <td>-</td>\n",
       "      <td>0</td>\n",
       "      <td>1</td>\n",
       "      <td>-</td>\n",
       "      <td>0</td>\n",
       "      <td>1</td>\n",
       "      <td>00:18:05</td>\n",
       "    </tr>\n",
       "    <tr>\n",
       "      <th>2</th>\n",
       "      <td></td>\n",
       "      <td>2</td>\n",
       "      <td>0</td>\n",
       "      <td>1</td>\n",
       "      <td>8</td>\n",
       "      <td>-</td>\n",
       "      <td>0</td>\n",
       "      <td>1</td>\n",
       "      <td>-</td>\n",
       "      <td>0</td>\n",
       "      <td>1</td>\n",
       "      <td>00:20:14</td>\n",
       "    </tr>\n",
       "    <tr>\n",
       "      <th>3</th>\n",
       "      <td></td>\n",
       "      <td>2</td>\n",
       "      <td>0</td>\n",
       "      <td>1</td>\n",
       "      <td>8</td>\n",
       "      <td>-</td>\n",
       "      <td>0</td>\n",
       "      <td>1</td>\n",
       "      <td>-</td>\n",
       "      <td>0</td>\n",
       "      <td>1</td>\n",
       "      <td>00:20:22</td>\n",
       "    </tr>\n",
       "    <tr>\n",
       "      <th>4</th>\n",
       "      <td></td>\n",
       "      <td>2</td>\n",
       "      <td>0</td>\n",
       "      <td>1</td>\n",
       "      <td>8</td>\n",
       "      <td>-</td>\n",
       "      <td>0</td>\n",
       "      <td>1</td>\n",
       "      <td>-</td>\n",
       "      <td>0</td>\n",
       "      <td>1</td>\n",
       "      <td>00:20:31</td>\n",
       "    </tr>\n",
       "  </tbody>\n",
       "</table>\n",
       "</div>"
      ],
      "text/plain": [
       "  0  1  2  3  4  5  6  7  8  9  10         11\n",
       "0     2  0  1  8  -  0  1  -  0  1   00:08:05\n",
       "1     2  0  1  8  -  0  1  -  0  1   00:18:05\n",
       "2     2  0  1  8  -  0  1  -  0  1   00:20:14\n",
       "3     2  0  1  8  -  0  1  -  0  1   00:20:22\n",
       "4     2  0  1  8  -  0  1  -  0  1   00:20:31"
      ]
     },
     "execution_count": 23,
     "metadata": {},
     "output_type": "execute_result"
    }
   ],
   "source": [
    "# Los datos de Hora de Retiro estan en formato string -> los paso a formato numerico para poder operarlos\n",
    "FdR= bicis['bici_Fecha_hora_retiro'].str.split(\"\",n=11,expand = True)\n",
    "FdR.head()"
   ]
  },
  {
   "cell_type": "code",
   "execution_count": 24,
   "metadata": {
    "scrolled": true
   },
   "outputs": [
    {
     "data": {
      "text/plain": [
       "0    0\n",
       "1    0\n",
       "2    0\n",
       "3    0\n",
       "4    0\n",
       "Name: 11, dtype: int32"
      ]
     },
     "execution_count": 24,
     "metadata": {},
     "output_type": "execute_result"
    }
   ],
   "source": [
    "retiro_horas = FdR.iloc[:,11].str.slice(0,3,1).astype(int)\n",
    "retiro_horas.head()"
   ]
  },
  {
   "cell_type": "code",
   "execution_count": 25,
   "metadata": {},
   "outputs": [
    {
     "data": {
      "text/html": [
       "<div>\n",
       "<style scoped>\n",
       "    .dataframe tbody tr th:only-of-type {\n",
       "        vertical-align: middle;\n",
       "    }\n",
       "\n",
       "    .dataframe tbody tr th {\n",
       "        vertical-align: top;\n",
       "    }\n",
       "\n",
       "    .dataframe thead th {\n",
       "        text-align: right;\n",
       "    }\n",
       "</style>\n",
       "<table border=\"1\" class=\"dataframe\">\n",
       "  <thead>\n",
       "    <tr style=\"text-align: right;\">\n",
       "      <th></th>\n",
       "      <th>bici_id_usuario</th>\n",
       "      <th>bici_Fecha_hora_retiro</th>\n",
       "      <th>bici_tiempo_uso</th>\n",
       "      <th>bici_nombre_estacion_origen</th>\n",
       "      <th>bici_estacion_origen</th>\n",
       "      <th>bici_nombre_estacion_destino</th>\n",
       "      <th>bici_estacion_destino</th>\n",
       "      <th>bici_sexo</th>\n",
       "      <th>bici_edad</th>\n",
       "      <th>11</th>\n",
       "      <th>7</th>\n",
       "    </tr>\n",
       "  </thead>\n",
       "  <tbody>\n",
       "    <tr>\n",
       "      <th>0</th>\n",
       "      <td>5453</td>\n",
       "      <td>2018-01-01 00:08:05</td>\n",
       "      <td>0 days 00:19:53.000000000</td>\n",
       "      <td>Uruguay</td>\n",
       "      <td>45</td>\n",
       "      <td>Virrey Cevallos</td>\n",
       "      <td>183</td>\n",
       "      <td>1</td>\n",
       "      <td>45</td>\n",
       "      <td>0</td>\n",
       "      <td>19</td>\n",
       "    </tr>\n",
       "    <tr>\n",
       "      <th>1</th>\n",
       "      <td>673</td>\n",
       "      <td>2018-01-01 00:18:05</td>\n",
       "      <td>0 days 00:26:19.000000000</td>\n",
       "      <td>Posadas</td>\n",
       "      <td>189</td>\n",
       "      <td>Guardia Vieja</td>\n",
       "      <td>110</td>\n",
       "      <td>1</td>\n",
       "      <td>61</td>\n",
       "      <td>0</td>\n",
       "      <td>26</td>\n",
       "    </tr>\n",
       "    <tr>\n",
       "      <th>2</th>\n",
       "      <td>179119</td>\n",
       "      <td>2018-01-01 00:20:14</td>\n",
       "      <td>0 days 00:27:39.000000000</td>\n",
       "      <td>Hospital Rivadavia</td>\n",
       "      <td>50</td>\n",
       "      <td>Padilla</td>\n",
       "      <td>31</td>\n",
       "      <td>0</td>\n",
       "      <td>52</td>\n",
       "      <td>0</td>\n",
       "      <td>27</td>\n",
       "    </tr>\n",
       "    <tr>\n",
       "      <th>3</th>\n",
       "      <td>400147</td>\n",
       "      <td>2018-01-01 00:20:22</td>\n",
       "      <td>0 days 00:48:51.000000000</td>\n",
       "      <td>Macacha Güemes</td>\n",
       "      <td>111</td>\n",
       "      <td>Acuña de Figueroa</td>\n",
       "      <td>54</td>\n",
       "      <td>1</td>\n",
       "      <td>27</td>\n",
       "      <td>0</td>\n",
       "      <td>48</td>\n",
       "    </tr>\n",
       "    <tr>\n",
       "      <th>4</th>\n",
       "      <td>400156</td>\n",
       "      <td>2018-01-01 00:20:31</td>\n",
       "      <td>0 days 00:49:27.000000000</td>\n",
       "      <td>Macacha Güemes</td>\n",
       "      <td>111</td>\n",
       "      <td>Acuña de Figueroa</td>\n",
       "      <td>54</td>\n",
       "      <td>0</td>\n",
       "      <td>27</td>\n",
       "      <td>0</td>\n",
       "      <td>49</td>\n",
       "    </tr>\n",
       "  </tbody>\n",
       "</table>\n",
       "</div>"
      ],
      "text/plain": [
       "   bici_id_usuario bici_Fecha_hora_retiro            bici_tiempo_uso  \\\n",
       "0             5453    2018-01-01 00:08:05  0 days 00:19:53.000000000   \n",
       "1              673    2018-01-01 00:18:05  0 days 00:26:19.000000000   \n",
       "2           179119    2018-01-01 00:20:14  0 days 00:27:39.000000000   \n",
       "3           400147    2018-01-01 00:20:22  0 days 00:48:51.000000000   \n",
       "4           400156    2018-01-01 00:20:31  0 days 00:49:27.000000000   \n",
       "\n",
       "  bici_nombre_estacion_origen  bici_estacion_origen  \\\n",
       "0                     Uruguay                    45   \n",
       "1                     Posadas                   189   \n",
       "2          Hospital Rivadavia                    50   \n",
       "3              Macacha Güemes                   111   \n",
       "4              Macacha Güemes                   111   \n",
       "\n",
       "  bici_nombre_estacion_destino  bici_estacion_destino  bici_sexo  bici_edad  \\\n",
       "0              Virrey Cevallos                    183          1         45   \n",
       "1                Guardia Vieja                    110          1         61   \n",
       "2                      Padilla                     31          0         52   \n",
       "3            Acuña de Figueroa                     54          1         27   \n",
       "4            Acuña de Figueroa                     54          0         27   \n",
       "\n",
       "   11   7  \n",
       "0   0  19  \n",
       "1   0  26  \n",
       "2   0  27  \n",
       "3   0  48  \n",
       "4   0  49  "
      ]
     },
     "execution_count": 25,
     "metadata": {},
     "output_type": "execute_result"
    }
   ],
   "source": [
    "bicis_v2 = bicis.join(retiro_horas)\n",
    "bicis_v3 = bicis_v2.join(mins_tot)\n",
    "bicis_v3.head()"
   ]
  },
  {
   "cell_type": "code",
   "execution_count": 26,
   "metadata": {},
   "outputs": [],
   "source": [
    "# Se elimina la columna Bici_tiempo_uso\n",
    "del bicis_v3['bici_tiempo_uso']"
   ]
  },
  {
   "cell_type": "code",
   "execution_count": 27,
   "metadata": {},
   "outputs": [],
   "source": [
    "# Se elimina la columna bici_Fecha_hora_retiro\n",
    "del bicis_v3['bici_Fecha_hora_retiro']"
   ]
  },
  {
   "cell_type": "code",
   "execution_count": 28,
   "metadata": {},
   "outputs": [],
   "source": [
    "# Rename de las columnas \n",
    "bicis_v3.columns = ['bici_id_usuario','bici_nombre_estacion_origen','bici_estacion_origen',\n",
    "                     'bici_nombre_estacion_destino','bici_estacion_destino','bici_sexo','bici_edad',\"Hora_retiro\",\"Tiempo_uso\"]"
   ]
  },
  {
   "cell_type": "code",
   "execution_count": 29,
   "metadata": {
    "scrolled": true
   },
   "outputs": [
    {
     "data": {
      "text/html": [
       "<div>\n",
       "<style scoped>\n",
       "    .dataframe tbody tr th:only-of-type {\n",
       "        vertical-align: middle;\n",
       "    }\n",
       "\n",
       "    .dataframe tbody tr th {\n",
       "        vertical-align: top;\n",
       "    }\n",
       "\n",
       "    .dataframe thead th {\n",
       "        text-align: right;\n",
       "    }\n",
       "</style>\n",
       "<table border=\"1\" class=\"dataframe\">\n",
       "  <thead>\n",
       "    <tr style=\"text-align: right;\">\n",
       "      <th></th>\n",
       "      <th>bici_id_usuario</th>\n",
       "      <th>bici_nombre_estacion_origen</th>\n",
       "      <th>bici_estacion_origen</th>\n",
       "      <th>bici_nombre_estacion_destino</th>\n",
       "      <th>bici_estacion_destino</th>\n",
       "      <th>bici_sexo</th>\n",
       "      <th>bici_edad</th>\n",
       "      <th>Hora_retiro</th>\n",
       "      <th>Tiempo_uso</th>\n",
       "    </tr>\n",
       "  </thead>\n",
       "  <tbody>\n",
       "    <tr>\n",
       "      <th>0</th>\n",
       "      <td>5453</td>\n",
       "      <td>Uruguay</td>\n",
       "      <td>45</td>\n",
       "      <td>Virrey Cevallos</td>\n",
       "      <td>183</td>\n",
       "      <td>1</td>\n",
       "      <td>45</td>\n",
       "      <td>0</td>\n",
       "      <td>19</td>\n",
       "    </tr>\n",
       "    <tr>\n",
       "      <th>1</th>\n",
       "      <td>673</td>\n",
       "      <td>Posadas</td>\n",
       "      <td>189</td>\n",
       "      <td>Guardia Vieja</td>\n",
       "      <td>110</td>\n",
       "      <td>1</td>\n",
       "      <td>61</td>\n",
       "      <td>0</td>\n",
       "      <td>26</td>\n",
       "    </tr>\n",
       "    <tr>\n",
       "      <th>2</th>\n",
       "      <td>179119</td>\n",
       "      <td>Hospital Rivadavia</td>\n",
       "      <td>50</td>\n",
       "      <td>Padilla</td>\n",
       "      <td>31</td>\n",
       "      <td>0</td>\n",
       "      <td>52</td>\n",
       "      <td>0</td>\n",
       "      <td>27</td>\n",
       "    </tr>\n",
       "    <tr>\n",
       "      <th>3</th>\n",
       "      <td>400147</td>\n",
       "      <td>Macacha Güemes</td>\n",
       "      <td>111</td>\n",
       "      <td>Acuña de Figueroa</td>\n",
       "      <td>54</td>\n",
       "      <td>1</td>\n",
       "      <td>27</td>\n",
       "      <td>0</td>\n",
       "      <td>48</td>\n",
       "    </tr>\n",
       "    <tr>\n",
       "      <th>4</th>\n",
       "      <td>400156</td>\n",
       "      <td>Macacha Güemes</td>\n",
       "      <td>111</td>\n",
       "      <td>Acuña de Figueroa</td>\n",
       "      <td>54</td>\n",
       "      <td>0</td>\n",
       "      <td>27</td>\n",
       "      <td>0</td>\n",
       "      <td>49</td>\n",
       "    </tr>\n",
       "  </tbody>\n",
       "</table>\n",
       "</div>"
      ],
      "text/plain": [
       "   bici_id_usuario bici_nombre_estacion_origen  bici_estacion_origen  \\\n",
       "0             5453                     Uruguay                    45   \n",
       "1              673                     Posadas                   189   \n",
       "2           179119          Hospital Rivadavia                    50   \n",
       "3           400147              Macacha Güemes                   111   \n",
       "4           400156              Macacha Güemes                   111   \n",
       "\n",
       "  bici_nombre_estacion_destino  bici_estacion_destino  bici_sexo  bici_edad  \\\n",
       "0              Virrey Cevallos                    183          1         45   \n",
       "1                Guardia Vieja                    110          1         61   \n",
       "2                      Padilla                     31          0         52   \n",
       "3            Acuña de Figueroa                     54          1         27   \n",
       "4            Acuña de Figueroa                     54          0         27   \n",
       "\n",
       "   Hora_retiro  Tiempo_uso  \n",
       "0            0          19  \n",
       "1            0          26  \n",
       "2            0          27  \n",
       "3            0          48  \n",
       "4            0          49  "
      ]
     },
     "execution_count": 29,
     "metadata": {},
     "output_type": "execute_result"
    }
   ],
   "source": [
    "bicis_v3.head()"
   ]
  },
  {
   "cell_type": "code",
   "execution_count": 30,
   "metadata": {
    "scrolled": true
   },
   "outputs": [
    {
     "data": {
      "image/png": "[encoded data removed]",
      "text/plain": [
       "<Figure size 720x216 with 1 Axes>"
      ]
     },
     "metadata": {
      "needs_background": "light"
     },
     "output_type": "display_data"
    }
   ],
   "source": [
    "plt.figure(figsize=(10,3))\n",
    "sns.countplot(bicis_v3.Hora_retiro, color=\"Blue\")\n",
    "plt.xlabel(\"Hora de Retiro\")\n",
    "plt.title('Histograma de retiros por hora 2018',size = 20)\n",
    "plt.ylabel(\"Count\")\n",
    "plt.show()"
   ]
  },
  {
   "cell_type": "markdown",
   "metadata": {},
   "source": [
    "\n",
    "### Definimos bandas de Tiempos de Uso / Edad / Franja horaria de Retiro"
   ]
  },
  {
   "cell_type": "code",
   "execution_count": 31,
   "metadata": {},
   "outputs": [],
   "source": [
    "# Bandas de Tiempo de Uso\n",
    "bicis_v3.loc[(bicis_v3['Tiempo_uso'] >= 0) & (bicis_v3['Tiempo_uso'] <= 15), 'DuracionViaje']   = 'Corta duracion'\n",
    "bicis_v3.loc[(bicis_v3['Tiempo_uso'] > 15) & (bicis_v3['Tiempo_uso'] <= 30), 'DuracionViaje']   = 'Media duracion'\n",
    "bicis_v3.loc[(bicis_v3['Tiempo_uso'] > 30) & (bicis_v3['Tiempo_uso'] <= 1000), 'DuracionViaje']   = 'Larga duracion'"
   ]
  },
  {
   "cell_type": "code",
   "execution_count": 32,
   "metadata": {},
   "outputs": [
    {
     "data": {
      "text/html": [
       "<div>\n",
       "<style scoped>\n",
       "    .dataframe tbody tr th:only-of-type {\n",
       "        vertical-align: middle;\n",
       "    }\n",
       "\n",
       "    .dataframe tbody tr th {\n",
       "        vertical-align: top;\n",
       "    }\n",
       "\n",
       "    .dataframe thead th {\n",
       "        text-align: right;\n",
       "    }\n",
       "</style>\n",
       "<table border=\"1\" class=\"dataframe\">\n",
       "  <thead>\n",
       "    <tr style=\"text-align: right;\">\n",
       "      <th></th>\n",
       "      <th>DuracionViaje</th>\n",
       "      <th>Tiempo_uso</th>\n",
       "    </tr>\n",
       "  </thead>\n",
       "  <tbody>\n",
       "    <tr>\n",
       "      <th>0</th>\n",
       "      <td>Corta duracion</td>\n",
       "      <td>10.582560</td>\n",
       "    </tr>\n",
       "    <tr>\n",
       "      <th>1</th>\n",
       "      <td>Larga duracion</td>\n",
       "      <td>55.780803</td>\n",
       "    </tr>\n",
       "    <tr>\n",
       "      <th>2</th>\n",
       "      <td>Media duracion</td>\n",
       "      <td>21.657222</td>\n",
       "    </tr>\n",
       "  </tbody>\n",
       "</table>\n",
       "</div>"
      ],
      "text/plain": [
       "    DuracionViaje  Tiempo_uso\n",
       "0  Corta duracion   10.582560\n",
       "1  Larga duracion   55.780803\n",
       "2  Media duracion   21.657222"
      ]
     },
     "execution_count": 32,
     "metadata": {},
     "output_type": "execute_result"
    }
   ],
   "source": [
    "DuracionViaje_Media = bicis_v3[['DuracionViaje', 'Tiempo_uso']].groupby(['DuracionViaje'], as_index=False).mean()\n",
    "DuracionViaje_Media"
   ]
  },
  {
   "cell_type": "code",
   "execution_count": 33,
   "metadata": {},
   "outputs": [
    {
     "data": {
      "text/html": [
       "<div>\n",
       "<style scoped>\n",
       "    .dataframe tbody tr th:only-of-type {\n",
       "        vertical-align: middle;\n",
       "    }\n",
       "\n",
       "    .dataframe tbody tr th {\n",
       "        vertical-align: top;\n",
       "    }\n",
       "\n",
       "    .dataframe thead th {\n",
       "        text-align: right;\n",
       "    }\n",
       "</style>\n",
       "<table border=\"1\" class=\"dataframe\">\n",
       "  <thead>\n",
       "    <tr style=\"text-align: right;\">\n",
       "      <th></th>\n",
       "      <th>DuracionViaje</th>\n",
       "      <th>Tiempo_uso</th>\n",
       "    </tr>\n",
       "  </thead>\n",
       "  <tbody>\n",
       "    <tr>\n",
       "      <th>0</th>\n",
       "      <td>Corta duracion</td>\n",
       "      <td>1096598</td>\n",
       "    </tr>\n",
       "    <tr>\n",
       "      <th>1</th>\n",
       "      <td>Larga duracion</td>\n",
       "      <td>629374</td>\n",
       "    </tr>\n",
       "    <tr>\n",
       "      <th>2</th>\n",
       "      <td>Media duracion</td>\n",
       "      <td>850273</td>\n",
       "    </tr>\n",
       "  </tbody>\n",
       "</table>\n",
       "</div>"
      ],
      "text/plain": [
       "    DuracionViaje  Tiempo_uso\n",
       "0  Corta duracion     1096598\n",
       "1  Larga duracion      629374\n",
       "2  Media duracion      850273"
      ]
     },
     "execution_count": 33,
     "metadata": {},
     "output_type": "execute_result"
    }
   ],
   "source": [
    "DuracionViaje_Cantidad = bicis_v3[['DuracionViaje', 'Tiempo_uso']].groupby(['DuracionViaje'], as_index=False).count()\n",
    "DuracionViaje_Cantidad"
   ]
  },
  {
   "cell_type": "code",
   "execution_count": 34,
   "metadata": {},
   "outputs": [],
   "source": [
    "# Bandas de Edad\n",
    "bicis_v3.loc[(bicis_v3['bici_edad'] >= 0) & (bicis_v3['bici_edad'] <= 18), 'GrupoEdad'] = 'Menor de Edad'\n",
    "bicis_v3.loc[(bicis_v3['bici_edad'] > 18) & (bicis_v3['bici_edad'] <= 35), 'GrupoEdad']   = 'Adulto Joven'\n",
    "bicis_v3.loc[(bicis_v3['bici_edad'] > 35) & (bicis_v3['bici_edad'] <= 65), 'GrupoEdad']   = 'Adulto Mayor'\n",
    "bicis_v3.loc[(bicis_v3['bici_edad'] > 65) & (bicis_v3['bici_edad'] <= 150), 'GrupoEdad']   = 'Jubilados'"
   ]
  },
  {
   "cell_type": "code",
   "execution_count": 35,
   "metadata": {},
   "outputs": [
    {
     "data": {
      "text/html": [
       "<div>\n",
       "<style scoped>\n",
       "    .dataframe tbody tr th:only-of-type {\n",
       "        vertical-align: middle;\n",
       "    }\n",
       "\n",
       "    .dataframe tbody tr th {\n",
       "        vertical-align: top;\n",
       "    }\n",
       "\n",
       "    .dataframe thead th {\n",
       "        text-align: right;\n",
       "    }\n",
       "</style>\n",
       "<table border=\"1\" class=\"dataframe\">\n",
       "  <thead>\n",
       "    <tr style=\"text-align: right;\">\n",
       "      <th></th>\n",
       "      <th>GrupoEdad</th>\n",
       "      <th>bici_edad</th>\n",
       "    </tr>\n",
       "  </thead>\n",
       "  <tbody>\n",
       "    <tr>\n",
       "      <th>0</th>\n",
       "      <td>Adulto Joven</td>\n",
       "      <td>1662581</td>\n",
       "    </tr>\n",
       "    <tr>\n",
       "      <th>1</th>\n",
       "      <td>Adulto Mayor</td>\n",
       "      <td>837328</td>\n",
       "    </tr>\n",
       "    <tr>\n",
       "      <th>2</th>\n",
       "      <td>Jubilados</td>\n",
       "      <td>25839</td>\n",
       "    </tr>\n",
       "    <tr>\n",
       "      <th>3</th>\n",
       "      <td>Menor de Edad</td>\n",
       "      <td>50497</td>\n",
       "    </tr>\n",
       "  </tbody>\n",
       "</table>\n",
       "</div>"
      ],
      "text/plain": [
       "       GrupoEdad  bici_edad\n",
       "0   Adulto Joven    1662581\n",
       "1   Adulto Mayor     837328\n",
       "2      Jubilados      25839\n",
       "3  Menor de Edad      50497"
      ]
     },
     "execution_count": 35,
     "metadata": {},
     "output_type": "execute_result"
    }
   ],
   "source": [
    "GrupoEdad_Cantidad = bicis_v3[['GrupoEdad', 'bici_edad']].groupby(['GrupoEdad'], as_index=False).count()\n",
    "GrupoEdad_Cantidad"
   ]
  },
  {
   "cell_type": "code",
   "execution_count": 36,
   "metadata": {},
   "outputs": [
    {
     "data": {
      "text/html": [
       "<div>\n",
       "<style scoped>\n",
       "    .dataframe tbody tr th:only-of-type {\n",
       "        vertical-align: middle;\n",
       "    }\n",
       "\n",
       "    .dataframe tbody tr th {\n",
       "        vertical-align: top;\n",
       "    }\n",
       "\n",
       "    .dataframe thead th {\n",
       "        text-align: right;\n",
       "    }\n",
       "</style>\n",
       "<table border=\"1\" class=\"dataframe\">\n",
       "  <thead>\n",
       "    <tr style=\"text-align: right;\">\n",
       "      <th></th>\n",
       "      <th>GrupoEdad</th>\n",
       "      <th>Tiempo_uso</th>\n",
       "    </tr>\n",
       "  </thead>\n",
       "  <tbody>\n",
       "    <tr>\n",
       "      <th>0</th>\n",
       "      <td>Adulto Joven</td>\n",
       "      <td>24.949375</td>\n",
       "    </tr>\n",
       "    <tr>\n",
       "      <th>1</th>\n",
       "      <td>Adulto Mayor</td>\n",
       "      <td>25.598123</td>\n",
       "    </tr>\n",
       "    <tr>\n",
       "      <th>2</th>\n",
       "      <td>Jubilados</td>\n",
       "      <td>31.990170</td>\n",
       "    </tr>\n",
       "    <tr>\n",
       "      <th>3</th>\n",
       "      <td>Menor de Edad</td>\n",
       "      <td>27.434818</td>\n",
       "    </tr>\n",
       "  </tbody>\n",
       "</table>\n",
       "</div>"
      ],
      "text/plain": [
       "       GrupoEdad  Tiempo_uso\n",
       "0   Adulto Joven   24.949375\n",
       "1   Adulto Mayor   25.598123\n",
       "2      Jubilados   31.990170\n",
       "3  Menor de Edad   27.434818"
      ]
     },
     "execution_count": 36,
     "metadata": {},
     "output_type": "execute_result"
    }
   ],
   "source": [
    "GrupoEdad_TdU = bicis_v3[['GrupoEdad', \"Tiempo_uso\"]].groupby(['GrupoEdad'], as_index=False).mean()\n",
    "GrupoEdad_TdU"
   ]
  },
  {
   "cell_type": "code",
   "execution_count": 37,
   "metadata": {},
   "outputs": [],
   "source": [
    "# Bandas Franjas Horarias de Retiro de Bicicleta\n",
    "bicis_v3.loc[(bicis_v3['Hora_retiro'] >= 0) & (bicis_v3['Hora_retiro'] <= 6), 'FranjaRetiro'] = 'Madrugada'\n",
    "bicis_v3.loc[(bicis_v3['Hora_retiro'] > 6) & (bicis_v3['Hora_retiro'] <= 12), 'FranjaRetiro']   = 'Mañana'\n",
    "bicis_v3.loc[(bicis_v3['Hora_retiro'] > 12) & (bicis_v3['Hora_retiro'] <= 18), 'FranjaRetiro']   = 'Tarde'\n",
    "bicis_v3.loc[(bicis_v3['Hora_retiro'] > 18) & (bicis_v3['Hora_retiro'] <= 25), 'FranjaRetiro']   = 'Noche'"
   ]
  },
  {
   "cell_type": "code",
   "execution_count": 38,
   "metadata": {},
   "outputs": [
    {
     "data": {
      "text/html": [
       "<div>\n",
       "<style scoped>\n",
       "    .dataframe tbody tr th:only-of-type {\n",
       "        vertical-align: middle;\n",
       "    }\n",
       "\n",
       "    .dataframe tbody tr th {\n",
       "        vertical-align: top;\n",
       "    }\n",
       "\n",
       "    .dataframe thead th {\n",
       "        text-align: right;\n",
       "    }\n",
       "</style>\n",
       "<table border=\"1\" class=\"dataframe\">\n",
       "  <thead>\n",
       "    <tr style=\"text-align: right;\">\n",
       "      <th></th>\n",
       "      <th>FranjaRetiro</th>\n",
       "      <th>Hora_retiro</th>\n",
       "    </tr>\n",
       "  </thead>\n",
       "  <tbody>\n",
       "    <tr>\n",
       "      <th>0</th>\n",
       "      <td>Madrugada</td>\n",
       "      <td>204500</td>\n",
       "    </tr>\n",
       "    <tr>\n",
       "      <th>1</th>\n",
       "      <td>Mañana</td>\n",
       "      <td>686602</td>\n",
       "    </tr>\n",
       "    <tr>\n",
       "      <th>2</th>\n",
       "      <td>Noche</td>\n",
       "      <td>569866</td>\n",
       "    </tr>\n",
       "    <tr>\n",
       "      <th>3</th>\n",
       "      <td>Tarde</td>\n",
       "      <td>1115277</td>\n",
       "    </tr>\n",
       "  </tbody>\n",
       "</table>\n",
       "</div>"
      ],
      "text/plain": [
       "  FranjaRetiro  Hora_retiro\n",
       "0    Madrugada       204500\n",
       "1       Mañana       686602\n",
       "2        Noche       569866\n",
       "3        Tarde      1115277"
      ]
     },
     "execution_count": 38,
     "metadata": {},
     "output_type": "execute_result"
    }
   ],
   "source": [
    "FranjaHoraria_Retiro = bicis_v3[['FranjaRetiro', \"Hora_retiro\"]].groupby(['FranjaRetiro'], as_index=False).count()\n",
    "FranjaHoraria_Retiro"
   ]
  },
  {
   "cell_type": "code",
   "execution_count": 39,
   "metadata": {},
   "outputs": [
    {
     "data": {
      "text/html": [
       "<div>\n",
       "<style scoped>\n",
       "    .dataframe tbody tr th:only-of-type {\n",
       "        vertical-align: middle;\n",
       "    }\n",
       "\n",
       "    .dataframe tbody tr th {\n",
       "        vertical-align: top;\n",
       "    }\n",
       "\n",
       "    .dataframe thead th {\n",
       "        text-align: right;\n",
       "    }\n",
       "</style>\n",
       "<table border=\"1\" class=\"dataframe\">\n",
       "  <thead>\n",
       "    <tr style=\"text-align: right;\">\n",
       "      <th></th>\n",
       "      <th>bici_id_usuario</th>\n",
       "      <th>bici_nombre_estacion_origen</th>\n",
       "      <th>bici_estacion_origen</th>\n",
       "      <th>bici_nombre_estacion_destino</th>\n",
       "      <th>bici_estacion_destino</th>\n",
       "      <th>bici_sexo</th>\n",
       "      <th>bici_edad</th>\n",
       "      <th>Hora_retiro</th>\n",
       "      <th>Tiempo_uso</th>\n",
       "      <th>DuracionViaje</th>\n",
       "      <th>GrupoEdad</th>\n",
       "      <th>FranjaRetiro</th>\n",
       "    </tr>\n",
       "  </thead>\n",
       "  <tbody>\n",
       "    <tr>\n",
       "      <th>0</th>\n",
       "      <td>5453</td>\n",
       "      <td>Uruguay</td>\n",
       "      <td>45</td>\n",
       "      <td>Virrey Cevallos</td>\n",
       "      <td>183</td>\n",
       "      <td>1</td>\n",
       "      <td>45</td>\n",
       "      <td>0</td>\n",
       "      <td>19</td>\n",
       "      <td>Media duracion</td>\n",
       "      <td>Adulto Mayor</td>\n",
       "      <td>Madrugada</td>\n",
       "    </tr>\n",
       "    <tr>\n",
       "      <th>1</th>\n",
       "      <td>673</td>\n",
       "      <td>Posadas</td>\n",
       "      <td>189</td>\n",
       "      <td>Guardia Vieja</td>\n",
       "      <td>110</td>\n",
       "      <td>1</td>\n",
       "      <td>61</td>\n",
       "      <td>0</td>\n",
       "      <td>26</td>\n",
       "      <td>Media duracion</td>\n",
       "      <td>Adulto Mayor</td>\n",
       "      <td>Madrugada</td>\n",
       "    </tr>\n",
       "    <tr>\n",
       "      <th>2</th>\n",
       "      <td>179119</td>\n",
       "      <td>Hospital Rivadavia</td>\n",
       "      <td>50</td>\n",
       "      <td>Padilla</td>\n",
       "      <td>31</td>\n",
       "      <td>0</td>\n",
       "      <td>52</td>\n",
       "      <td>0</td>\n",
       "      <td>27</td>\n",
       "      <td>Media duracion</td>\n",
       "      <td>Adulto Mayor</td>\n",
       "      <td>Madrugada</td>\n",
       "    </tr>\n",
       "    <tr>\n",
       "      <th>3</th>\n",
       "      <td>400147</td>\n",
       "      <td>Macacha Güemes</td>\n",
       "      <td>111</td>\n",
       "      <td>Acuña de Figueroa</td>\n",
       "      <td>54</td>\n",
       "      <td>1</td>\n",
       "      <td>27</td>\n",
       "      <td>0</td>\n",
       "      <td>48</td>\n",
       "      <td>Larga duracion</td>\n",
       "      <td>Adulto Joven</td>\n",
       "      <td>Madrugada</td>\n",
       "    </tr>\n",
       "    <tr>\n",
       "      <th>4</th>\n",
       "      <td>400156</td>\n",
       "      <td>Macacha Güemes</td>\n",
       "      <td>111</td>\n",
       "      <td>Acuña de Figueroa</td>\n",
       "      <td>54</td>\n",
       "      <td>0</td>\n",
       "      <td>27</td>\n",
       "      <td>0</td>\n",
       "      <td>49</td>\n",
       "      <td>Larga duracion</td>\n",
       "      <td>Adulto Joven</td>\n",
       "      <td>Madrugada</td>\n",
       "    </tr>\n",
       "  </tbody>\n",
       "</table>\n",
       "</div>"
      ],
      "text/plain": [
       "   bici_id_usuario bici_nombre_estacion_origen  bici_estacion_origen  \\\n",
       "0             5453                     Uruguay                    45   \n",
       "1              673                     Posadas                   189   \n",
       "2           179119          Hospital Rivadavia                    50   \n",
       "3           400147              Macacha Güemes                   111   \n",
       "4           400156              Macacha Güemes                   111   \n",
       "\n",
       "  bici_nombre_estacion_destino  bici_estacion_destino  bici_sexo  bici_edad  \\\n",
       "0              Virrey Cevallos                    183          1         45   \n",
       "1                Guardia Vieja                    110          1         61   \n",
       "2                      Padilla                     31          0         52   \n",
       "3            Acuña de Figueroa                     54          1         27   \n",
       "4            Acuña de Figueroa                     54          0         27   \n",
       "\n",
       "   Hora_retiro  Tiempo_uso   DuracionViaje     GrupoEdad FranjaRetiro  \n",
       "0            0          19  Media duracion  Adulto Mayor    Madrugada  \n",
       "1            0          26  Media duracion  Adulto Mayor    Madrugada  \n",
       "2            0          27  Media duracion  Adulto Mayor    Madrugada  \n",
       "3            0          48  Larga duracion  Adulto Joven    Madrugada  \n",
       "4            0          49  Larga duracion  Adulto Joven    Madrugada  "
      ]
     },
     "execution_count": 39,
     "metadata": {},
     "output_type": "execute_result"
    }
   ],
   "source": [
    "bicis_v3.head()"
   ]
  },
  {
   "cell_type": "code",
   "execution_count": 40,
   "metadata": {
    "scrolled": true
   },
   "outputs": [
    {
     "data": {
      "text/plain": [
       "(2576245, 12)"
      ]
     },
     "execution_count": 40,
     "metadata": {},
     "output_type": "execute_result"
    }
   ],
   "source": [
    "# Muestro la nueva dimension de mi muestra\n",
    "np.shape(bicis_v3)"
   ]
  },
  {
   "cell_type": "markdown",
   "metadata": {},
   "source": [
    "\n",
    "### BoxPlot para identificar outliers + Descarte de outliers (Edad > 90 años )"
   ]
  },
  {
   "cell_type": "code",
   "execution_count": 41,
   "metadata": {},
   "outputs": [
    {
     "data": {
      "text/plain": [
       "Text(0.5, 1.0, 'Edad de usuarios')"
      ]
     },
     "execution_count": 41,
     "metadata": {},
     "output_type": "execute_result"
    },
    {
     "data": {
      "image/png": "[encoded data removed]",
      "text/plain": [
       "<Figure size 432x288 with 1 Axes>"
      ]
     },
     "metadata": {
      "needs_background": "light"
     },
     "output_type": "display_data"
    }
   ],
   "source": [
    "ax = sns.boxplot(y = bicis_v3[\"bici_edad\"])\n",
    "plt.title(\"Edad de usuarios\")"
   ]
  },
  {
   "cell_type": "code",
   "execution_count": 42,
   "metadata": {},
   "outputs": [
    {
     "data": {
      "text/plain": [
       "(2576138, 12)"
      ]
     },
     "execution_count": 42,
     "metadata": {},
     "output_type": "execute_result"
    }
   ],
   "source": [
    "# Eliminamos outliers mayores a 90 años.\n",
    "\n",
    "bicis_v3 = bicis_v3.drop(bicis_v3[bicis_v3['bici_edad'] >= 90].index)\n",
    "np.shape(bicis_v3)"
   ]
  },
  {
   "cell_type": "code",
   "execution_count": 43,
   "metadata": {
    "scrolled": false
   },
   "outputs": [
    {
     "data": {
      "text/plain": [
       "Text(0.5, 1.0, 'Edad de usuarios sin outliers')"
      ]
     },
     "execution_count": 43,
     "metadata": {},
     "output_type": "execute_result"
    },
    {
     "data": {
      "image/png": "[encoded data removed]",
      "text/plain": [
       "<Figure size 432x288 with 1 Axes>"
      ]
     },
     "metadata": {
      "needs_background": "light"
     },
     "output_type": "display_data"
    }
   ],
   "source": [
    "ax = sns.boxplot(y = bicis_v3[\"bici_edad\"])\n",
    "plt.title(\"Edad de usuarios sin outliers\")"
   ]
  },
  {
   "cell_type": "markdown",
   "metadata": {},
   "source": [
    "\n",
    "### Se muestra correlacion lineal entre las features del Data Set"
   ]
  },
  {
   "cell_type": "code",
   "execution_count": 44,
   "metadata": {},
   "outputs": [
    {
     "data": {
      "image/png": "[encoded data removed]",
      "text/plain": [
       "<Figure size 432x288 with 2 Axes>"
      ]
     },
     "metadata": {
      "needs_background": "light"
     },
     "output_type": "display_data"
    }
   ],
   "source": [
    "corrmat = bicis_v3.corr()\n",
    "p =sns.heatmap(corrmat, cmap=sns.diverging_palette(220, 20, as_cmap=True))"
   ]
  },
  {
   "cell_type": "code",
   "execution_count": 45,
   "metadata": {},
   "outputs": [
    {
     "data": {
      "text/html": [
       "<div>\n",
       "<style scoped>\n",
       "    .dataframe tbody tr th:only-of-type {\n",
       "        vertical-align: middle;\n",
       "    }\n",
       "\n",
       "    .dataframe tbody tr th {\n",
       "        vertical-align: top;\n",
       "    }\n",
       "\n",
       "    .dataframe thead th {\n",
       "        text-align: right;\n",
       "    }\n",
       "</style>\n",
       "<table border=\"1\" class=\"dataframe\">\n",
       "  <thead>\n",
       "    <tr style=\"text-align: right;\">\n",
       "      <th></th>\n",
       "      <th>bici_id_usuario</th>\n",
       "      <th>bici_nombre_estacion_origen</th>\n",
       "      <th>bici_estacion_origen</th>\n",
       "      <th>bici_nombre_estacion_destino</th>\n",
       "      <th>bici_estacion_destino</th>\n",
       "      <th>bici_sexo</th>\n",
       "      <th>bici_edad</th>\n",
       "      <th>Hora_retiro</th>\n",
       "      <th>Tiempo_uso</th>\n",
       "      <th>DuracionViaje</th>\n",
       "      <th>GrupoEdad</th>\n",
       "      <th>FranjaRetiro</th>\n",
       "    </tr>\n",
       "  </thead>\n",
       "  <tbody>\n",
       "    <tr>\n",
       "      <th>0</th>\n",
       "      <td>5453</td>\n",
       "      <td>Uruguay</td>\n",
       "      <td>45</td>\n",
       "      <td>Virrey Cevallos</td>\n",
       "      <td>183</td>\n",
       "      <td>1</td>\n",
       "      <td>45</td>\n",
       "      <td>0</td>\n",
       "      <td>19</td>\n",
       "      <td>Media duracion</td>\n",
       "      <td>Adulto Mayor</td>\n",
       "      <td>Madrugada</td>\n",
       "    </tr>\n",
       "    <tr>\n",
       "      <th>1</th>\n",
       "      <td>673</td>\n",
       "      <td>Posadas</td>\n",
       "      <td>189</td>\n",
       "      <td>Guardia Vieja</td>\n",
       "      <td>110</td>\n",
       "      <td>1</td>\n",
       "      <td>61</td>\n",
       "      <td>0</td>\n",
       "      <td>26</td>\n",
       "      <td>Media duracion</td>\n",
       "      <td>Adulto Mayor</td>\n",
       "      <td>Madrugada</td>\n",
       "    </tr>\n",
       "    <tr>\n",
       "      <th>2</th>\n",
       "      <td>179119</td>\n",
       "      <td>Hospital Rivadavia</td>\n",
       "      <td>50</td>\n",
       "      <td>Padilla</td>\n",
       "      <td>31</td>\n",
       "      <td>0</td>\n",
       "      <td>52</td>\n",
       "      <td>0</td>\n",
       "      <td>27</td>\n",
       "      <td>Media duracion</td>\n",
       "      <td>Adulto Mayor</td>\n",
       "      <td>Madrugada</td>\n",
       "    </tr>\n",
       "    <tr>\n",
       "      <th>3</th>\n",
       "      <td>400147</td>\n",
       "      <td>Macacha Güemes</td>\n",
       "      <td>111</td>\n",
       "      <td>Acuña de Figueroa</td>\n",
       "      <td>54</td>\n",
       "      <td>1</td>\n",
       "      <td>27</td>\n",
       "      <td>0</td>\n",
       "      <td>48</td>\n",
       "      <td>Larga duracion</td>\n",
       "      <td>Adulto Joven</td>\n",
       "      <td>Madrugada</td>\n",
       "    </tr>\n",
       "    <tr>\n",
       "      <th>4</th>\n",
       "      <td>400156</td>\n",
       "      <td>Macacha Güemes</td>\n",
       "      <td>111</td>\n",
       "      <td>Acuña de Figueroa</td>\n",
       "      <td>54</td>\n",
       "      <td>0</td>\n",
       "      <td>27</td>\n",
       "      <td>0</td>\n",
       "      <td>49</td>\n",
       "      <td>Larga duracion</td>\n",
       "      <td>Adulto Joven</td>\n",
       "      <td>Madrugada</td>\n",
       "    </tr>\n",
       "  </tbody>\n",
       "</table>\n",
       "</div>"
      ],
      "text/plain": [
       "   bici_id_usuario bici_nombre_estacion_origen  bici_estacion_origen  \\\n",
       "0             5453                     Uruguay                    45   \n",
       "1              673                     Posadas                   189   \n",
       "2           179119          Hospital Rivadavia                    50   \n",
       "3           400147              Macacha Güemes                   111   \n",
       "4           400156              Macacha Güemes                   111   \n",
       "\n",
       "  bici_nombre_estacion_destino  bici_estacion_destino  bici_sexo  bici_edad  \\\n",
       "0              Virrey Cevallos                    183          1         45   \n",
       "1                Guardia Vieja                    110          1         61   \n",
       "2                      Padilla                     31          0         52   \n",
       "3            Acuña de Figueroa                     54          1         27   \n",
       "4            Acuña de Figueroa                     54          0         27   \n",
       "\n",
       "   Hora_retiro  Tiempo_uso   DuracionViaje     GrupoEdad FranjaRetiro  \n",
       "0            0          19  Media duracion  Adulto Mayor    Madrugada  \n",
       "1            0          26  Media duracion  Adulto Mayor    Madrugada  \n",
       "2            0          27  Media duracion  Adulto Mayor    Madrugada  \n",
       "3            0          48  Larga duracion  Adulto Joven    Madrugada  \n",
       "4            0          49  Larga duracion  Adulto Joven    Madrugada  "
      ]
     },
     "execution_count": 45,
     "metadata": {},
     "output_type": "execute_result"
    }
   ],
   "source": [
    "# Vemos como quedo la Muestra\n",
    "bicis_v3.head()"
   ]
  },
  {
   "cell_type": "markdown",
   "metadata": {},
   "source": [
    "\n",
    "### Se busca el Top 15 de Estaciones por cantidad de viajes segun origen y destino"
   ]
  },
  {
   "cell_type": "code",
   "execution_count": 46,
   "metadata": {},
   "outputs": [
    {
     "data": {
      "text/plain": [
       "Facultad de Medicina       38382\n",
       "Pacífico                   36163\n",
       "Parque Las Heras           35846\n",
       "Plaza Italia               32010\n",
       "Retiro III                 30326\n",
       "Parque Centenario          29203\n",
       "Facultad de Derecho        27535\n",
       "Congreso                   27059\n",
       "Godoy Cruz y Libertador    25454\n",
       "Vera Peñaloza              24876\n",
       "Ecuador                    24863\n",
       "Once II                    24179\n",
       "Ayacucho                   23777\n",
       "Billinghurst               23621\n",
       "Virrey Cevallos            22974\n",
       "Name: bici_nombre_estacion_origen, dtype: int64"
      ]
     },
     "execution_count": 46,
     "metadata": {},
     "output_type": "execute_result"
    }
   ],
   "source": [
    "# Buscamos Top 15 estaciones de origen\n",
    "top15_origen = bicis.bici_nombre_estacion_origen.value_counts().head(15)\n",
    "top15_origen"
   ]
  },
  {
   "cell_type": "code",
   "execution_count": 47,
   "metadata": {},
   "outputs": [
    {
     "data": {
      "text/plain": [
       "Facultad de Medicina       38613\n",
       "Pacífico                   35830\n",
       "Parque Las Heras           33762\n",
       "Parque Centenario          29186\n",
       "Plaza Italia               28177\n",
       "Retiro III                 27555\n",
       "Congreso                   27380\n",
       "Facultad de Derecho        26474\n",
       "Vera Peñaloza              25292\n",
       "Godoy Cruz y Libertador    24920\n",
       "Ecuador                    24602\n",
       "Ayacucho                   23780\n",
       "Billinghurst               23762\n",
       "Virrey Cevallos            23132\n",
       "Carlos Calvo               23051\n",
       "Name: bici_nombre_estacion_destino, dtype: int64"
      ]
     },
     "execution_count": 47,
     "metadata": {},
     "output_type": "execute_result"
    }
   ],
   "source": [
    "# Buscamos Top 15 estaciones de destino\n",
    "top15_destino = bicis.bici_nombre_estacion_destino.value_counts().head(15)\n",
    "top15_destino"
   ]
  },
  {
   "cell_type": "markdown",
   "metadata": {},
   "source": [
    "## Mapa Estaciones Ecobicis\n",
    "### Usamos un segundo DataSet (Estaciones-Bicicletas de GCBA)"
   ]
  },
  {
   "cell_type": "code",
   "execution_count": 48,
   "metadata": {},
   "outputs": [],
   "source": [
    "estaciones = pd.read_csv(r'C:\\Users\\Leandro\\Desktop\\UTN\\Ciencia de Datos\\TP Bicicletas publicas\\estaciones-bicicletas.csv', delimiter=',')"
   ]
  },
  {
   "cell_type": "code",
   "execution_count": 49,
   "metadata": {},
   "outputs": [
    {
     "data": {
      "text/html": [
       "<div>\n",
       "<style scoped>\n",
       "    .dataframe tbody tr th:only-of-type {\n",
       "        vertical-align: middle;\n",
       "    }\n",
       "\n",
       "    .dataframe tbody tr th {\n",
       "        vertical-align: top;\n",
       "    }\n",
       "\n",
       "    .dataframe thead th {\n",
       "        text-align: right;\n",
       "    }\n",
       "</style>\n",
       "<table border=\"1\" class=\"dataframe\">\n",
       "  <thead>\n",
       "    <tr style=\"text-align: right;\">\n",
       "      <th></th>\n",
       "      <th>lat</th>\n",
       "      <th>long</th>\n",
       "      <th>nombre_estacion</th>\n",
       "      <th>id_estacion</th>\n",
       "      <th>capacidad</th>\n",
       "      <th>dirección_completa</th>\n",
       "      <th>direccion_nombre</th>\n",
       "      <th>direccion_altura</th>\n",
       "      <th>direccion_interseccion</th>\n",
       "      <th>barrio</th>\n",
       "    </tr>\n",
       "  </thead>\n",
       "  <tbody>\n",
       "    <tr>\n",
       "      <th>0</th>\n",
       "      <td>-34.592423</td>\n",
       "      <td>-58.374715</td>\n",
       "      <td>002 - Retiro I</td>\n",
       "      <td>2</td>\n",
       "      <td>20</td>\n",
       "      <td>Ramos Mejia, Jose Maria, Dr. Av. y Del Liberta...</td>\n",
       "      <td>Ramos Mejia, Jose Maria, Dr. Av.</td>\n",
       "      <td>NaN</td>\n",
       "      <td>Del Libertador Av.</td>\n",
       "      <td>Retiro</td>\n",
       "    </tr>\n",
       "    <tr>\n",
       "      <th>1</th>\n",
       "      <td>-34.611032</td>\n",
       "      <td>-58.368260</td>\n",
       "      <td>003 - ADUANA</td>\n",
       "      <td>3</td>\n",
       "      <td>20</td>\n",
       "      <td>Moreno y Paseo Colon Av.</td>\n",
       "      <td>Moreno</td>\n",
       "      <td>NaN</td>\n",
       "      <td>Paseo Colon Av.</td>\n",
       "      <td>Monserrat</td>\n",
       "    </tr>\n",
       "    <tr>\n",
       "      <th>2</th>\n",
       "      <td>-34.601726</td>\n",
       "      <td>-58.368763</td>\n",
       "      <td>004 - Plaza Roma</td>\n",
       "      <td>4</td>\n",
       "      <td>20</td>\n",
       "      <td>Lavalle y Bouchard</td>\n",
       "      <td>Lavalle</td>\n",
       "      <td>NaN</td>\n",
       "      <td>Bouchard</td>\n",
       "      <td>San Nicolas</td>\n",
       "    </tr>\n",
       "    <tr>\n",
       "      <th>3</th>\n",
       "      <td>-34.580550</td>\n",
       "      <td>-58.420954</td>\n",
       "      <td>005 - Plaza Italia</td>\n",
       "      <td>5</td>\n",
       "      <td>42</td>\n",
       "      <td>Sarmiento Av. 2601</td>\n",
       "      <td>Sarmiento Av.</td>\n",
       "      <td>2601.0</td>\n",
       "      <td>NaN</td>\n",
       "      <td>Palermo</td>\n",
       "    </tr>\n",
       "    <tr>\n",
       "      <th>4</th>\n",
       "      <td>-34.628526</td>\n",
       "      <td>-58.369758</td>\n",
       "      <td>006 - Parque Lezama</td>\n",
       "      <td>6</td>\n",
       "      <td>20</td>\n",
       "      <td>Garcia, Martin Av. 295</td>\n",
       "      <td>Garcia, Martin Av.</td>\n",
       "      <td>295.0</td>\n",
       "      <td>NaN</td>\n",
       "      <td>San Telmo</td>\n",
       "    </tr>\n",
       "  </tbody>\n",
       "</table>\n",
       "</div>"
      ],
      "text/plain": [
       "         lat       long      nombre_estacion  id_estacion  capacidad  \\\n",
       "0 -34.592423 -58.374715       002 - Retiro I            2         20   \n",
       "1 -34.611032 -58.368260         003 - ADUANA            3         20   \n",
       "2 -34.601726 -58.368763     004 - Plaza Roma            4         20   \n",
       "3 -34.580550 -58.420954   005 - Plaza Italia            5         42   \n",
       "4 -34.628526 -58.369758  006 - Parque Lezama            6         20   \n",
       "\n",
       "                                  dirección_completa  \\\n",
       "0  Ramos Mejia, Jose Maria, Dr. Av. y Del Liberta...   \n",
       "1                           Moreno y Paseo Colon Av.   \n",
       "2                                 Lavalle y Bouchard   \n",
       "3                                 Sarmiento Av. 2601   \n",
       "4                             Garcia, Martin Av. 295   \n",
       "\n",
       "                   direccion_nombre  direccion_altura direccion_interseccion  \\\n",
       "0  Ramos Mejia, Jose Maria, Dr. Av.               NaN     Del Libertador Av.   \n",
       "1                            Moreno               NaN        Paseo Colon Av.   \n",
       "2                           Lavalle               NaN               Bouchard   \n",
       "3                     Sarmiento Av.            2601.0                    NaN   \n",
       "4                Garcia, Martin Av.             295.0                    NaN   \n",
       "\n",
       "        barrio  \n",
       "0       Retiro  \n",
       "1    Monserrat  \n",
       "2  San Nicolas  \n",
       "3      Palermo  \n",
       "4    San Telmo  "
      ]
     },
     "execution_count": 49,
     "metadata": {},
     "output_type": "execute_result"
    }
   ],
   "source": [
    "estaciones.head()"
   ]
  },
  {
   "cell_type": "code",
   "execution_count": 50,
   "metadata": {},
   "outputs": [
    {
     "data": {
      "text/plain": [
       "(396, 10)"
      ]
     },
     "execution_count": 50,
     "metadata": {},
     "output_type": "execute_result"
    }
   ],
   "source": [
    "np.shape(estaciones)"
   ]
  },
  {
   "cell_type": "code",
   "execution_count": 51,
   "metadata": {},
   "outputs": [
    {
     "data": {
      "text/plain": [
       "Palermo                39\n",
       "San Nicolas            28\n",
       "Belgrano               27\n",
       "Caballito              24\n",
       "Recoleta               21\n",
       "Balvanera              20\n",
       "Flores                 19\n",
       "Monserrat              17\n",
       "Almagro                16\n",
       "Retiro                 12\n",
       "Villa Crespo           12\n",
       "Puerto Madero          11\n",
       "Parque Chacabuco       10\n",
       "Nueva Pompeya           9\n",
       "Barracas                9\n",
       "Villa Del Parque        9\n",
       "Parque Patricios        9\n",
       "Boca                    9\n",
       "Chacarita               8\n",
       "Villa Urquiza           8\n",
       "Nuñez                   7\n",
       "Colegiales              7\n",
       "Boedo                   6\n",
       "San Telmo               6\n",
       "Coghlan                 5\n",
       "Villa Ortuzar           5\n",
       "San Cristobal           5\n",
       "Floresta                5\n",
       "Villa General Mitre     5\n",
       "Paternal                4\n",
       "Constitucion            4\n",
       "Agronomia               3\n",
       "Parque Chas             3\n",
       "Saavedra                3\n",
       "Villa Santa Rita        3\n",
       "Villa Soldati           2\n",
       "Devoto                  2\n",
       "Parque Avellaneda       2\n",
       "Velez Sarfield          1\n",
       "Villa Lugano            1\n",
       "Name: barrio, dtype: int64"
      ]
     },
     "execution_count": 51,
     "metadata": {},
     "output_type": "execute_result"
    }
   ],
   "source": [
    "# Mostramos la cantidad de estaciones por barrio\n",
    "estaciones.barrio.value_counts()"
   ]
  },
  {
   "cell_type": "code",
   "execution_count": 52,
   "metadata": {},
   "outputs": [
    {
     "data": {
      "image/png": "[encoded data removed]",
      "text/plain": [
       "<Figure size 432x288 with 1 Axes>"
      ]
     },
     "metadata": {
      "needs_background": "light"
     },
     "output_type": "display_data"
    }
   ],
   "source": [
    "ax2 = sns.countplot(x=\"barrio\", data=estaciones , order=estaciones.barrio.value_counts().index)\n",
    "\n",
    "ax2.set_xticklabels(ax2.get_xticklabels(), rotation=80, ha=\"right\" );\n",
    "plt.title('Estaciones Ecobicis por barrio y capacidad')\n",
    "plt.show()"
   ]
  },
  {
   "cell_type": "code",
   "execution_count": 53,
   "metadata": {},
   "outputs": [
    {
     "data": {
      "image/png": "[encoded data removed]",
      "text/plain": [
       "<Figure size 864x720 with 2 Axes>"
      ]
     },
     "metadata": {
      "needs_background": "light"
     },
     "output_type": "display_data"
    }
   ],
   "source": [
    "# Graficamos segun su ubicacion geografica (latitud y Longitud)\n",
    "\n",
    "estaciones.plot(kind=\"scatter\",  x=\"long\", y=\"lat\", alpha=0.4, figsize=(12,10),\n",
    "                          c=estaciones[\"capacidad\"],\n",
    "                          cmap=plt.get_cmap(\"jet\"), colorbar=True,\n",
    "    sharex=False)\n",
    "plt.title('Estaciones Ecobicis en CABA por capacidad')\n",
    "plt.show()"
   ]
  },
  {
   "cell_type": "markdown",
   "metadata": {},
   "source": [
    "# 3 - Reduccion de muestra para aplicacion de ML\n",
    "\n",
    "### Se reduce la muestra al 1% para poder aplicar Machine Learning : Aprendizaje Supervisado\n",
    "\n",
    "##### --> Se reduce basandose en la distribucion de la banda calculada: GrupoEdad"
   ]
  },
  {
   "cell_type": "code",
   "execution_count": 54,
   "metadata": {},
   "outputs": [],
   "source": [
    "a = pd.DataFrame(bicis_v3['GrupoEdad'])"
   ]
  },
  {
   "cell_type": "code",
   "execution_count": 55,
   "metadata": {
    "scrolled": true
   },
   "outputs": [
    {
     "data": {
      "text/plain": [
       "2576138"
      ]
     },
     "execution_count": 55,
     "metadata": {},
     "output_type": "execute_result"
    }
   ],
   "source": [
    "tot_a = pd.DataFrame.count(a) \n",
    "tot_a = int(tot_a)\n",
    "tot_a"
   ]
  },
  {
   "cell_type": "code",
   "execution_count": 56,
   "metadata": {},
   "outputs": [],
   "source": [
    "b1 = GrupoEdad_Cantidad.loc[GrupoEdad_Cantidad['GrupoEdad'] == 'Menor de Edad'].bici_edad\n",
    "b = int(b1)\n",
    "b = np.round((b1/tot_a)*100 , 2)\n",
    "b = float(b)"
   ]
  },
  {
   "cell_type": "code",
   "execution_count": 57,
   "metadata": {},
   "outputs": [],
   "source": [
    "c1 = GrupoEdad_Cantidad.loc[GrupoEdad_Cantidad['GrupoEdad'] == 'Adulto Joven'].bici_edad\n",
    "c = int(c1)\n",
    "c = np.round((c1/tot_a)*100 , 2)\n",
    "c = float(c)"
   ]
  },
  {
   "cell_type": "code",
   "execution_count": 58,
   "metadata": {},
   "outputs": [],
   "source": [
    "d1 = GrupoEdad_Cantidad.loc[GrupoEdad_Cantidad['GrupoEdad'] == 'Adulto Mayor'].bici_edad\n",
    "d = int(d1)\n",
    "d = np.round((d1/tot_a)*100 , 2)\n",
    "d = float(d)"
   ]
  },
  {
   "cell_type": "code",
   "execution_count": 59,
   "metadata": {},
   "outputs": [],
   "source": [
    "e1 = GrupoEdad_Cantidad.loc[GrupoEdad_Cantidad['GrupoEdad'] == 'Jubilados'].bici_edad\n",
    "e = int(e1)\n",
    "e = np.round((e1/tot_a)*100 , 2)\n",
    "e = float(e)"
   ]
  },
  {
   "cell_type": "code",
   "execution_count": 60,
   "metadata": {},
   "outputs": [
    {
     "data": {
      "text/html": [
       "<div>\n",
       "<style scoped>\n",
       "    .dataframe tbody tr th:only-of-type {\n",
       "        vertical-align: middle;\n",
       "    }\n",
       "\n",
       "    .dataframe tbody tr th {\n",
       "        vertical-align: top;\n",
       "    }\n",
       "\n",
       "    .dataframe thead th {\n",
       "        text-align: right;\n",
       "    }\n",
       "</style>\n",
       "<table border=\"1\" class=\"dataframe\">\n",
       "  <thead>\n",
       "    <tr style=\"text-align: right;\">\n",
       "      <th></th>\n",
       "      <th>Rango Edad</th>\n",
       "      <th>Porcentaje</th>\n",
       "    </tr>\n",
       "  </thead>\n",
       "  <tbody>\n",
       "    <tr>\n",
       "      <th>0</th>\n",
       "      <td>Adulto Joven</td>\n",
       "      <td>64.54</td>\n",
       "    </tr>\n",
       "    <tr>\n",
       "      <th>1</th>\n",
       "      <td>Adulto Mayor</td>\n",
       "      <td>32.50</td>\n",
       "    </tr>\n",
       "    <tr>\n",
       "      <th>2</th>\n",
       "      <td>Jubilados</td>\n",
       "      <td>1.00</td>\n",
       "    </tr>\n",
       "    <tr>\n",
       "      <th>3</th>\n",
       "      <td>Menor de Edad</td>\n",
       "      <td>1.96</td>\n",
       "    </tr>\n",
       "  </tbody>\n",
       "</table>\n",
       "</div>"
      ],
      "text/plain": [
       "      Rango Edad  Porcentaje\n",
       "0   Adulto Joven       64.54\n",
       "1   Adulto Mayor       32.50\n",
       "2      Jubilados        1.00\n",
       "3  Menor de Edad        1.96"
      ]
     },
     "execution_count": 60,
     "metadata": {},
     "output_type": "execute_result"
    }
   ],
   "source": [
    "s = [0]*4\n",
    "s[0] = b\n",
    "s[1] = c\n",
    "s[2] = d\n",
    "s[3] = e\n",
    "Porc_GE = pd.DataFrame({'Rango Edad':['Adulto Joven','Adulto Mayor','Jubilados','Menor de Edad'], 'Porcentaje':[c,d,e,b]})\n",
    "Porc_GE"
   ]
  },
  {
   "cell_type": "code",
   "execution_count": 61,
   "metadata": {},
   "outputs": [
    {
     "data": {
      "text/html": [
       "<div>\n",
       "<style scoped>\n",
       "    .dataframe tbody tr th:only-of-type {\n",
       "        vertical-align: middle;\n",
       "    }\n",
       "\n",
       "    .dataframe tbody tr th {\n",
       "        vertical-align: top;\n",
       "    }\n",
       "\n",
       "    .dataframe thead tr th {\n",
       "        text-align: left;\n",
       "    }\n",
       "</style>\n",
       "<table border=\"1\" class=\"dataframe\">\n",
       "  <thead>\n",
       "    <tr>\n",
       "      <th></th>\n",
       "      <th>GrupoEdad</th>\n",
       "      <th>bici_edad</th>\n",
       "      <th colspan=\"2\" halign=\"left\">Porcentaje GE</th>\n",
       "    </tr>\n",
       "    <tr>\n",
       "      <th></th>\n",
       "      <th>GrupoEdad</th>\n",
       "      <th>bici_edad</th>\n",
       "      <th>Rango Edad</th>\n",
       "      <th>Porcentaje</th>\n",
       "    </tr>\n",
       "  </thead>\n",
       "  <tbody>\n",
       "    <tr>\n",
       "      <th>0</th>\n",
       "      <td>Adulto Joven</td>\n",
       "      <td>1662581</td>\n",
       "      <td>Adulto Joven</td>\n",
       "      <td>64.54</td>\n",
       "    </tr>\n",
       "    <tr>\n",
       "      <th>1</th>\n",
       "      <td>Adulto Mayor</td>\n",
       "      <td>837328</td>\n",
       "      <td>Adulto Mayor</td>\n",
       "      <td>32.50</td>\n",
       "    </tr>\n",
       "    <tr>\n",
       "      <th>2</th>\n",
       "      <td>Jubilados</td>\n",
       "      <td>25839</td>\n",
       "      <td>Jubilados</td>\n",
       "      <td>1.00</td>\n",
       "    </tr>\n",
       "    <tr>\n",
       "      <th>3</th>\n",
       "      <td>Menor de Edad</td>\n",
       "      <td>50497</td>\n",
       "      <td>Menor de Edad</td>\n",
       "      <td>1.96</td>\n",
       "    </tr>\n",
       "  </tbody>\n",
       "</table>\n",
       "</div>"
      ],
      "text/plain": [
       "       GrupoEdad bici_edad  Porcentaje GE           \n",
       "       GrupoEdad bici_edad     Rango Edad Porcentaje\n",
       "0   Adulto Joven   1662581   Adulto Joven      64.54\n",
       "1   Adulto Mayor    837328   Adulto Mayor      32.50\n",
       "2      Jubilados     25839      Jubilados       1.00\n",
       "3  Menor de Edad     50497  Menor de Edad       1.96"
      ]
     },
     "execution_count": 61,
     "metadata": {},
     "output_type": "execute_result"
    }
   ],
   "source": [
    "Porc_GE2 = pd.concat([GrupoEdad_Cantidad['GrupoEdad'],GrupoEdad_Cantidad['bici_edad'],Porc_GE], axis=1,\n",
    "              keys=['GrupoEdad','bici_edad','Porcentaje GE'])\n",
    "Porc_GE2.head()"
   ]
  },
  {
   "cell_type": "code",
   "execution_count": 62,
   "metadata": {
    "scrolled": true
   },
   "outputs": [
    {
     "data": {
      "text/html": [
       "<div>\n",
       "<style scoped>\n",
       "    .dataframe tbody tr th:only-of-type {\n",
       "        vertical-align: middle;\n",
       "    }\n",
       "\n",
       "    .dataframe tbody tr th {\n",
       "        vertical-align: top;\n",
       "    }\n",
       "\n",
       "    .dataframe thead th {\n",
       "        text-align: right;\n",
       "    }\n",
       "</style>\n",
       "<table border=\"1\" class=\"dataframe\">\n",
       "  <thead>\n",
       "    <tr style=\"text-align: right;\">\n",
       "      <th></th>\n",
       "      <th>GrupoEdad</th>\n",
       "    </tr>\n",
       "  </thead>\n",
       "  <tbody>\n",
       "    <tr>\n",
       "      <th>0</th>\n",
       "      <td>Adulto Joven</td>\n",
       "    </tr>\n",
       "    <tr>\n",
       "      <th>1</th>\n",
       "      <td>Adulto Mayor</td>\n",
       "    </tr>\n",
       "    <tr>\n",
       "      <th>2</th>\n",
       "      <td>Jubilados</td>\n",
       "    </tr>\n",
       "    <tr>\n",
       "      <th>3</th>\n",
       "      <td>Menor de Edad</td>\n",
       "    </tr>\n",
       "  </tbody>\n",
       "</table>\n",
       "</div>"
      ],
      "text/plain": [
       "       GrupoEdad\n",
       "0   Adulto Joven\n",
       "1   Adulto Mayor\n",
       "2      Jubilados\n",
       "3  Menor de Edad"
      ]
     },
     "execution_count": 62,
     "metadata": {},
     "output_type": "execute_result"
    }
   ],
   "source": [
    "Porc_GE2[\"GrupoEdad\"]"
   ]
  },
  {
   "cell_type": "code",
   "execution_count": 63,
   "metadata": {
    "scrolled": false
   },
   "outputs": [
    {
     "data": {
      "text/plain": [
       "0    64.54\n",
       "1    32.50\n",
       "2     1.00\n",
       "3     1.96\n",
       "Name: Porcentaje, dtype: float64"
      ]
     },
     "execution_count": 63,
     "metadata": {},
     "output_type": "execute_result"
    }
   ],
   "source": [
    "Porc_GE2[\"Porcentaje GE\"]['Porcentaje']"
   ]
  },
  {
   "cell_type": "markdown",
   "metadata": {},
   "source": [
    "\n",
    "#### Grafico de Torta con distribucion de uso por banda etaria"
   ]
  },
  {
   "cell_type": "code",
   "execution_count": 64,
   "metadata": {},
   "outputs": [
    {
     "data": {
      "image/png": "[encoded data removed]",
      "text/plain": [
       "<Figure size 576x396 with 1 Axes>"
      ]
     },
     "metadata": {},
     "output_type": "display_data"
    }
   ],
   "source": [
    "slices = Porc_GE2[\"Porcentaje GE\"]['Porcentaje']\n",
    "labels=[\"Adulto Joven\", \"Adulto Mayor\", \"Jubilados\", \"Menor de Edad\"]\n",
    "\n",
    "explode = [0.05,0.05,0.2,0.05]\n",
    "\n",
    "plt.style.use('seaborn')\n",
    "plt.pie(slices, explode=explode, \n",
    "        startangle=90, autopct='%1.1f%%'\n",
    "         )\n",
    "plt.title(\"Grafico de torta con distribucion de bandas etarias\")\n",
    "plt.legend(labels, loc='best')\n",
    "plt.show()"
   ]
  },
  {
   "cell_type": "markdown",
   "metadata": {},
   "source": [
    "### Porcentaje a cortar para aplicar Machine Learning (SVM y KNN) = 1% de la muestra total"
   ]
  },
  {
   "cell_type": "code",
   "execution_count": 65,
   "metadata": {},
   "outputs": [],
   "source": [
    "p = 0.01"
   ]
  },
  {
   "cell_type": "code",
   "execution_count": 66,
   "metadata": {},
   "outputs": [
    {
     "data": {
      "text/plain": [
       "505"
      ]
     },
     "execution_count": 66,
     "metadata": {},
     "output_type": "execute_result"
    }
   ],
   "source": [
    "b2 = np.round(GrupoEdad_Cantidad.loc[GrupoEdad_Cantidad['GrupoEdad']== 'Menor de Edad'].bici_edad * p) \n",
    "b2 = int(b2)\n",
    "b2"
   ]
  },
  {
   "cell_type": "code",
   "execution_count": 67,
   "metadata": {},
   "outputs": [
    {
     "data": {
      "text/html": [
       "<div>\n",
       "<style scoped>\n",
       "    .dataframe tbody tr th:only-of-type {\n",
       "        vertical-align: middle;\n",
       "    }\n",
       "\n",
       "    .dataframe tbody tr th {\n",
       "        vertical-align: top;\n",
       "    }\n",
       "\n",
       "    .dataframe thead th {\n",
       "        text-align: right;\n",
       "    }\n",
       "</style>\n",
       "<table border=\"1\" class=\"dataframe\">\n",
       "  <thead>\n",
       "    <tr style=\"text-align: right;\">\n",
       "      <th></th>\n",
       "      <th>bici_id_usuario</th>\n",
       "      <th>bici_nombre_estacion_origen</th>\n",
       "      <th>bici_estacion_origen</th>\n",
       "      <th>bici_nombre_estacion_destino</th>\n",
       "      <th>bici_estacion_destino</th>\n",
       "      <th>bici_sexo</th>\n",
       "      <th>bici_edad</th>\n",
       "      <th>Hora_retiro</th>\n",
       "      <th>Tiempo_uso</th>\n",
       "      <th>DuracionViaje</th>\n",
       "      <th>GrupoEdad</th>\n",
       "      <th>FranjaRetiro</th>\n",
       "    </tr>\n",
       "  </thead>\n",
       "  <tbody>\n",
       "    <tr>\n",
       "      <th>20</th>\n",
       "      <td>463534</td>\n",
       "      <td>Maipú</td>\n",
       "      <td>36</td>\n",
       "      <td>Sánchez de Bustamante</td>\n",
       "      <td>52</td>\n",
       "      <td>0</td>\n",
       "      <td>18</td>\n",
       "      <td>0</td>\n",
       "      <td>19</td>\n",
       "      <td>Media duracion</td>\n",
       "      <td>Menor de Edad</td>\n",
       "      <td>Madrugada</td>\n",
       "    </tr>\n",
       "    <tr>\n",
       "      <th>52</th>\n",
       "      <td>316451</td>\n",
       "      <td>Plaza Güemes</td>\n",
       "      <td>25</td>\n",
       "      <td>Billinghurst y Valentin Gomez</td>\n",
       "      <td>143</td>\n",
       "      <td>1</td>\n",
       "      <td>18</td>\n",
       "      <td>1</td>\n",
       "      <td>11</td>\n",
       "      <td>Corta duracion</td>\n",
       "      <td>Menor de Edad</td>\n",
       "      <td>Madrugada</td>\n",
       "    </tr>\n",
       "    <tr>\n",
       "      <th>98</th>\n",
       "      <td>288956</td>\n",
       "      <td>Fitz Roy</td>\n",
       "      <td>101</td>\n",
       "      <td>Armenia y Gorriti</td>\n",
       "      <td>142</td>\n",
       "      <td>1</td>\n",
       "      <td>18</td>\n",
       "      <td>3</td>\n",
       "      <td>42</td>\n",
       "      <td>Larga duracion</td>\n",
       "      <td>Menor de Edad</td>\n",
       "      <td>Madrugada</td>\n",
       "    </tr>\n",
       "    <tr>\n",
       "      <th>152</th>\n",
       "      <td>370504</td>\n",
       "      <td>Urquiza</td>\n",
       "      <td>41</td>\n",
       "      <td>Treinta y tres orientales</td>\n",
       "      <td>49</td>\n",
       "      <td>1</td>\n",
       "      <td>18</td>\n",
       "      <td>5</td>\n",
       "      <td>119</td>\n",
       "      <td>Larga duracion</td>\n",
       "      <td>Menor de Edad</td>\n",
       "      <td>Madrugada</td>\n",
       "    </tr>\n",
       "    <tr>\n",
       "      <th>210</th>\n",
       "      <td>316451</td>\n",
       "      <td>Peron y F. Acuña de Figueroa</td>\n",
       "      <td>194</td>\n",
       "      <td>Plaza Güemes</td>\n",
       "      <td>25</td>\n",
       "      <td>1</td>\n",
       "      <td>18</td>\n",
       "      <td>7</td>\n",
       "      <td>16</td>\n",
       "      <td>Media duracion</td>\n",
       "      <td>Menor de Edad</td>\n",
       "      <td>Mañana</td>\n",
       "    </tr>\n",
       "  </tbody>\n",
       "</table>\n",
       "</div>"
      ],
      "text/plain": [
       "     bici_id_usuario   bici_nombre_estacion_origen  bici_estacion_origen  \\\n",
       "20            463534                         Maipú                    36   \n",
       "52            316451                  Plaza Güemes                    25   \n",
       "98            288956                      Fitz Roy                   101   \n",
       "152           370504                       Urquiza                    41   \n",
       "210           316451  Peron y F. Acuña de Figueroa                   194   \n",
       "\n",
       "      bici_nombre_estacion_destino  bici_estacion_destino  bici_sexo  \\\n",
       "20           Sánchez de Bustamante                     52          0   \n",
       "52   Billinghurst y Valentin Gomez                    143          1   \n",
       "98               Armenia y Gorriti                    142          1   \n",
       "152      Treinta y tres orientales                     49          1   \n",
       "210                   Plaza Güemes                     25          1   \n",
       "\n",
       "     bici_edad  Hora_retiro  Tiempo_uso   DuracionViaje      GrupoEdad  \\\n",
       "20          18            0          19  Media duracion  Menor de Edad   \n",
       "52          18            1          11  Corta duracion  Menor de Edad   \n",
       "98          18            3          42  Larga duracion  Menor de Edad   \n",
       "152         18            5         119  Larga duracion  Menor de Edad   \n",
       "210         18            7          16  Media duracion  Menor de Edad   \n",
       "\n",
       "    FranjaRetiro  \n",
       "20     Madrugada  \n",
       "52     Madrugada  \n",
       "98     Madrugada  \n",
       "152    Madrugada  \n",
       "210       Mañana  "
      ]
     },
     "execution_count": 67,
     "metadata": {},
     "output_type": "execute_result"
    }
   ],
   "source": [
    "b3 = bicis_v3.loc[bicis_v3['GrupoEdad'] == 'Menor de Edad']\n",
    "\n",
    "Menor_de_Edad_corte = b3.iloc[0:b2,:]\n",
    "\n",
    "Menor_de_Edad_corte.head()"
   ]
  },
  {
   "cell_type": "code",
   "execution_count": 68,
   "metadata": {},
   "outputs": [
    {
     "data": {
      "text/plain": [
       "16626"
      ]
     },
     "execution_count": 68,
     "metadata": {},
     "output_type": "execute_result"
    }
   ],
   "source": [
    "c2 = np.round(GrupoEdad_Cantidad.loc[GrupoEdad_Cantidad['GrupoEdad']== 'Adulto Joven'].bici_edad * p) \n",
    "c2 = int(c2)\n",
    "c2"
   ]
  },
  {
   "cell_type": "code",
   "execution_count": 69,
   "metadata": {},
   "outputs": [
    {
     "data": {
      "text/html": [
       "<div>\n",
       "<style scoped>\n",
       "    .dataframe tbody tr th:only-of-type {\n",
       "        vertical-align: middle;\n",
       "    }\n",
       "\n",
       "    .dataframe tbody tr th {\n",
       "        vertical-align: top;\n",
       "    }\n",
       "\n",
       "    .dataframe thead th {\n",
       "        text-align: right;\n",
       "    }\n",
       "</style>\n",
       "<table border=\"1\" class=\"dataframe\">\n",
       "  <thead>\n",
       "    <tr style=\"text-align: right;\">\n",
       "      <th></th>\n",
       "      <th>bici_id_usuario</th>\n",
       "      <th>bici_nombre_estacion_origen</th>\n",
       "      <th>bici_estacion_origen</th>\n",
       "      <th>bici_nombre_estacion_destino</th>\n",
       "      <th>bici_estacion_destino</th>\n",
       "      <th>bici_sexo</th>\n",
       "      <th>bici_edad</th>\n",
       "      <th>Hora_retiro</th>\n",
       "      <th>Tiempo_uso</th>\n",
       "      <th>DuracionViaje</th>\n",
       "      <th>GrupoEdad</th>\n",
       "      <th>FranjaRetiro</th>\n",
       "    </tr>\n",
       "  </thead>\n",
       "  <tbody>\n",
       "    <tr>\n",
       "      <th>3</th>\n",
       "      <td>400147</td>\n",
       "      <td>Macacha Güemes</td>\n",
       "      <td>111</td>\n",
       "      <td>Acuña de Figueroa</td>\n",
       "      <td>54</td>\n",
       "      <td>1</td>\n",
       "      <td>27</td>\n",
       "      <td>0</td>\n",
       "      <td>48</td>\n",
       "      <td>Larga duracion</td>\n",
       "      <td>Adulto Joven</td>\n",
       "      <td>Madrugada</td>\n",
       "    </tr>\n",
       "    <tr>\n",
       "      <th>4</th>\n",
       "      <td>400156</td>\n",
       "      <td>Macacha Güemes</td>\n",
       "      <td>111</td>\n",
       "      <td>Acuña de Figueroa</td>\n",
       "      <td>54</td>\n",
       "      <td>0</td>\n",
       "      <td>27</td>\n",
       "      <td>0</td>\n",
       "      <td>49</td>\n",
       "      <td>Larga duracion</td>\n",
       "      <td>Adulto Joven</td>\n",
       "      <td>Madrugada</td>\n",
       "    </tr>\n",
       "    <tr>\n",
       "      <th>5</th>\n",
       "      <td>476733</td>\n",
       "      <td>Yatay</td>\n",
       "      <td>121</td>\n",
       "      <td>Billinghurst y Valentin Gomez</td>\n",
       "      <td>143</td>\n",
       "      <td>0</td>\n",
       "      <td>31</td>\n",
       "      <td>0</td>\n",
       "      <td>36</td>\n",
       "      <td>Larga duracion</td>\n",
       "      <td>Adulto Joven</td>\n",
       "      <td>Madrugada</td>\n",
       "    </tr>\n",
       "    <tr>\n",
       "      <th>6</th>\n",
       "      <td>326932</td>\n",
       "      <td>Yatay</td>\n",
       "      <td>121</td>\n",
       "      <td>Billinghurst y Valentin Gomez</td>\n",
       "      <td>143</td>\n",
       "      <td>0</td>\n",
       "      <td>28</td>\n",
       "      <td>0</td>\n",
       "      <td>35</td>\n",
       "      <td>Larga duracion</td>\n",
       "      <td>Adulto Joven</td>\n",
       "      <td>Madrugada</td>\n",
       "    </tr>\n",
       "    <tr>\n",
       "      <th>7</th>\n",
       "      <td>347609</td>\n",
       "      <td>Pque. Jose Evaristo Uriburu</td>\n",
       "      <td>155</td>\n",
       "      <td>Cerrito</td>\n",
       "      <td>71</td>\n",
       "      <td>1</td>\n",
       "      <td>27</td>\n",
       "      <td>0</td>\n",
       "      <td>31</td>\n",
       "      <td>Larga duracion</td>\n",
       "      <td>Adulto Joven</td>\n",
       "      <td>Madrugada</td>\n",
       "    </tr>\n",
       "  </tbody>\n",
       "</table>\n",
       "</div>"
      ],
      "text/plain": [
       "   bici_id_usuario  bici_nombre_estacion_origen  bici_estacion_origen  \\\n",
       "3           400147               Macacha Güemes                   111   \n",
       "4           400156               Macacha Güemes                   111   \n",
       "5           476733                        Yatay                   121   \n",
       "6           326932                        Yatay                   121   \n",
       "7           347609  Pque. Jose Evaristo Uriburu                   155   \n",
       "\n",
       "    bici_nombre_estacion_destino  bici_estacion_destino  bici_sexo  bici_edad  \\\n",
       "3              Acuña de Figueroa                     54          1         27   \n",
       "4              Acuña de Figueroa                     54          0         27   \n",
       "5  Billinghurst y Valentin Gomez                    143          0         31   \n",
       "6  Billinghurst y Valentin Gomez                    143          0         28   \n",
       "7                        Cerrito                     71          1         27   \n",
       "\n",
       "   Hora_retiro  Tiempo_uso   DuracionViaje     GrupoEdad FranjaRetiro  \n",
       "3            0          48  Larga duracion  Adulto Joven    Madrugada  \n",
       "4            0          49  Larga duracion  Adulto Joven    Madrugada  \n",
       "5            0          36  Larga duracion  Adulto Joven    Madrugada  \n",
       "6            0          35  Larga duracion  Adulto Joven    Madrugada  \n",
       "7            0          31  Larga duracion  Adulto Joven    Madrugada  "
      ]
     },
     "execution_count": 69,
     "metadata": {},
     "output_type": "execute_result"
    }
   ],
   "source": [
    "c3 = bicis_v3.loc[bicis_v3['GrupoEdad'] == 'Adulto Joven']\n",
    "\n",
    "Adulo_Joven_corte = c3.iloc[0:c2,:]\n",
    "Adulo_Joven_corte.head()"
   ]
  },
  {
   "cell_type": "code",
   "execution_count": 70,
   "metadata": {},
   "outputs": [
    {
     "data": {
      "text/plain": [
       "8373"
      ]
     },
     "execution_count": 70,
     "metadata": {},
     "output_type": "execute_result"
    }
   ],
   "source": [
    "d2 = np.round(GrupoEdad_Cantidad.loc[GrupoEdad_Cantidad['GrupoEdad']== 'Adulto Mayor'].bici_edad * p) \n",
    "d2 = int(d2)\n",
    "d2"
   ]
  },
  {
   "cell_type": "code",
   "execution_count": 71,
   "metadata": {},
   "outputs": [
    {
     "data": {
      "text/html": [
       "<div>\n",
       "<style scoped>\n",
       "    .dataframe tbody tr th:only-of-type {\n",
       "        vertical-align: middle;\n",
       "    }\n",
       "\n",
       "    .dataframe tbody tr th {\n",
       "        vertical-align: top;\n",
       "    }\n",
       "\n",
       "    .dataframe thead th {\n",
       "        text-align: right;\n",
       "    }\n",
       "</style>\n",
       "<table border=\"1\" class=\"dataframe\">\n",
       "  <thead>\n",
       "    <tr style=\"text-align: right;\">\n",
       "      <th></th>\n",
       "      <th>bici_id_usuario</th>\n",
       "      <th>bici_nombre_estacion_origen</th>\n",
       "      <th>bici_estacion_origen</th>\n",
       "      <th>bici_nombre_estacion_destino</th>\n",
       "      <th>bici_estacion_destino</th>\n",
       "      <th>bici_sexo</th>\n",
       "      <th>bici_edad</th>\n",
       "      <th>Hora_retiro</th>\n",
       "      <th>Tiempo_uso</th>\n",
       "      <th>DuracionViaje</th>\n",
       "      <th>GrupoEdad</th>\n",
       "      <th>FranjaRetiro</th>\n",
       "    </tr>\n",
       "  </thead>\n",
       "  <tbody>\n",
       "    <tr>\n",
       "      <th>0</th>\n",
       "      <td>5453</td>\n",
       "      <td>Uruguay</td>\n",
       "      <td>45</td>\n",
       "      <td>Virrey Cevallos</td>\n",
       "      <td>183</td>\n",
       "      <td>1</td>\n",
       "      <td>45</td>\n",
       "      <td>0</td>\n",
       "      <td>19</td>\n",
       "      <td>Media duracion</td>\n",
       "      <td>Adulto Mayor</td>\n",
       "      <td>Madrugada</td>\n",
       "    </tr>\n",
       "    <tr>\n",
       "      <th>1</th>\n",
       "      <td>673</td>\n",
       "      <td>Posadas</td>\n",
       "      <td>189</td>\n",
       "      <td>Guardia Vieja</td>\n",
       "      <td>110</td>\n",
       "      <td>1</td>\n",
       "      <td>61</td>\n",
       "      <td>0</td>\n",
       "      <td>26</td>\n",
       "      <td>Media duracion</td>\n",
       "      <td>Adulto Mayor</td>\n",
       "      <td>Madrugada</td>\n",
       "    </tr>\n",
       "    <tr>\n",
       "      <th>2</th>\n",
       "      <td>179119</td>\n",
       "      <td>Hospital Rivadavia</td>\n",
       "      <td>50</td>\n",
       "      <td>Padilla</td>\n",
       "      <td>31</td>\n",
       "      <td>0</td>\n",
       "      <td>52</td>\n",
       "      <td>0</td>\n",
       "      <td>27</td>\n",
       "      <td>Media duracion</td>\n",
       "      <td>Adulto Mayor</td>\n",
       "      <td>Madrugada</td>\n",
       "    </tr>\n",
       "    <tr>\n",
       "      <th>13</th>\n",
       "      <td>282498</td>\n",
       "      <td>Ministro Carranza</td>\n",
       "      <td>58</td>\n",
       "      <td>Ministro Carranza</td>\n",
       "      <td>58</td>\n",
       "      <td>1</td>\n",
       "      <td>42</td>\n",
       "      <td>0</td>\n",
       "      <td>38</td>\n",
       "      <td>Larga duracion</td>\n",
       "      <td>Adulto Mayor</td>\n",
       "      <td>Madrugada</td>\n",
       "    </tr>\n",
       "    <tr>\n",
       "      <th>14</th>\n",
       "      <td>158706</td>\n",
       "      <td>Plaza Italia</td>\n",
       "      <td>5</td>\n",
       "      <td>Armenia y Gorriti</td>\n",
       "      <td>142</td>\n",
       "      <td>1</td>\n",
       "      <td>45</td>\n",
       "      <td>0</td>\n",
       "      <td>9</td>\n",
       "      <td>Corta duracion</td>\n",
       "      <td>Adulto Mayor</td>\n",
       "      <td>Madrugada</td>\n",
       "    </tr>\n",
       "  </tbody>\n",
       "</table>\n",
       "</div>"
      ],
      "text/plain": [
       "    bici_id_usuario bici_nombre_estacion_origen  bici_estacion_origen  \\\n",
       "0              5453                     Uruguay                    45   \n",
       "1               673                     Posadas                   189   \n",
       "2            179119          Hospital Rivadavia                    50   \n",
       "13           282498           Ministro Carranza                    58   \n",
       "14           158706                Plaza Italia                     5   \n",
       "\n",
       "   bici_nombre_estacion_destino  bici_estacion_destino  bici_sexo  bici_edad  \\\n",
       "0               Virrey Cevallos                    183          1         45   \n",
       "1                 Guardia Vieja                    110          1         61   \n",
       "2                       Padilla                     31          0         52   \n",
       "13            Ministro Carranza                     58          1         42   \n",
       "14            Armenia y Gorriti                    142          1         45   \n",
       "\n",
       "    Hora_retiro  Tiempo_uso   DuracionViaje     GrupoEdad FranjaRetiro  \n",
       "0             0          19  Media duracion  Adulto Mayor    Madrugada  \n",
       "1             0          26  Media duracion  Adulto Mayor    Madrugada  \n",
       "2             0          27  Media duracion  Adulto Mayor    Madrugada  \n",
       "13            0          38  Larga duracion  Adulto Mayor    Madrugada  \n",
       "14            0           9  Corta duracion  Adulto Mayor    Madrugada  "
      ]
     },
     "execution_count": 71,
     "metadata": {},
     "output_type": "execute_result"
    }
   ],
   "source": [
    "d3 = bicis_v3.loc[bicis_v3['GrupoEdad'] == 'Adulto Mayor']\n",
    "\n",
    "Adulo_Mayor_corte = d3.iloc[0:d2,:]\n",
    "Adulo_Mayor_corte.head()"
   ]
  },
  {
   "cell_type": "code",
   "execution_count": 72,
   "metadata": {},
   "outputs": [
    {
     "data": {
      "text/plain": [
       "258"
      ]
     },
     "execution_count": 72,
     "metadata": {},
     "output_type": "execute_result"
    }
   ],
   "source": [
    "e2 = np.round(GrupoEdad_Cantidad.loc[GrupoEdad_Cantidad['GrupoEdad']== 'Jubilados'].bici_edad * p) \n",
    "e2 = int(e2)\n",
    "e2"
   ]
  },
  {
   "cell_type": "code",
   "execution_count": 73,
   "metadata": {},
   "outputs": [
    {
     "data": {
      "text/html": [
       "<div>\n",
       "<style scoped>\n",
       "    .dataframe tbody tr th:only-of-type {\n",
       "        vertical-align: middle;\n",
       "    }\n",
       "\n",
       "    .dataframe tbody tr th {\n",
       "        vertical-align: top;\n",
       "    }\n",
       "\n",
       "    .dataframe thead th {\n",
       "        text-align: right;\n",
       "    }\n",
       "</style>\n",
       "<table border=\"1\" class=\"dataframe\">\n",
       "  <thead>\n",
       "    <tr style=\"text-align: right;\">\n",
       "      <th></th>\n",
       "      <th>bici_id_usuario</th>\n",
       "      <th>bici_nombre_estacion_origen</th>\n",
       "      <th>bici_estacion_origen</th>\n",
       "      <th>bici_nombre_estacion_destino</th>\n",
       "      <th>bici_estacion_destino</th>\n",
       "      <th>bici_sexo</th>\n",
       "      <th>bici_edad</th>\n",
       "      <th>Hora_retiro</th>\n",
       "      <th>Tiempo_uso</th>\n",
       "      <th>DuracionViaje</th>\n",
       "      <th>GrupoEdad</th>\n",
       "      <th>FranjaRetiro</th>\n",
       "    </tr>\n",
       "  </thead>\n",
       "  <tbody>\n",
       "    <tr>\n",
       "      <th>95</th>\n",
       "      <td>443639</td>\n",
       "      <td>Parque Las Heras</td>\n",
       "      <td>9</td>\n",
       "      <td>Plaza Palermo Viejo</td>\n",
       "      <td>56</td>\n",
       "      <td>1</td>\n",
       "      <td>74</td>\n",
       "      <td>3</td>\n",
       "      <td>27</td>\n",
       "      <td>Media duracion</td>\n",
       "      <td>Jubilados</td>\n",
       "      <td>Madrugada</td>\n",
       "    </tr>\n",
       "    <tr>\n",
       "      <th>128</th>\n",
       "      <td>6188</td>\n",
       "      <td>Plaza Güemes</td>\n",
       "      <td>25</td>\n",
       "      <td>Plaza Güemes</td>\n",
       "      <td>25</td>\n",
       "      <td>0</td>\n",
       "      <td>83</td>\n",
       "      <td>4</td>\n",
       "      <td>19</td>\n",
       "      <td>Media duracion</td>\n",
       "      <td>Jubilados</td>\n",
       "      <td>Madrugada</td>\n",
       "    </tr>\n",
       "    <tr>\n",
       "      <th>130</th>\n",
       "      <td>59334</td>\n",
       "      <td>Pedro Echague</td>\n",
       "      <td>184</td>\n",
       "      <td>Suipacha</td>\n",
       "      <td>23</td>\n",
       "      <td>1</td>\n",
       "      <td>66</td>\n",
       "      <td>4</td>\n",
       "      <td>23</td>\n",
       "      <td>Media duracion</td>\n",
       "      <td>Jubilados</td>\n",
       "      <td>Madrugada</td>\n",
       "    </tr>\n",
       "    <tr>\n",
       "      <th>156</th>\n",
       "      <td>6188</td>\n",
       "      <td>Plaza Monseñor Miguel De Andrea</td>\n",
       "      <td>165</td>\n",
       "      <td>San Luis y Ecuador</td>\n",
       "      <td>170</td>\n",
       "      <td>0</td>\n",
       "      <td>83</td>\n",
       "      <td>5</td>\n",
       "      <td>12</td>\n",
       "      <td>Corta duracion</td>\n",
       "      <td>Jubilados</td>\n",
       "      <td>Madrugada</td>\n",
       "    </tr>\n",
       "    <tr>\n",
       "      <th>234</th>\n",
       "      <td>7653</td>\n",
       "      <td>Cementerio de la Recoleta</td>\n",
       "      <td>166</td>\n",
       "      <td>Ministerio de Educacion</td>\n",
       "      <td>174</td>\n",
       "      <td>1</td>\n",
       "      <td>74</td>\n",
       "      <td>8</td>\n",
       "      <td>10</td>\n",
       "      <td>Corta duracion</td>\n",
       "      <td>Jubilados</td>\n",
       "      <td>Mañana</td>\n",
       "    </tr>\n",
       "  </tbody>\n",
       "</table>\n",
       "</div>"
      ],
      "text/plain": [
       "     bici_id_usuario      bici_nombre_estacion_origen  bici_estacion_origen  \\\n",
       "95            443639                 Parque Las Heras                     9   \n",
       "128             6188                     Plaza Güemes                    25   \n",
       "130            59334                    Pedro Echague                   184   \n",
       "156             6188  Plaza Monseñor Miguel De Andrea                   165   \n",
       "234             7653        Cementerio de la Recoleta                   166   \n",
       "\n",
       "    bici_nombre_estacion_destino  bici_estacion_destino  bici_sexo  bici_edad  \\\n",
       "95           Plaza Palermo Viejo                     56          1         74   \n",
       "128                 Plaza Güemes                     25          0         83   \n",
       "130                     Suipacha                     23          1         66   \n",
       "156           San Luis y Ecuador                    170          0         83   \n",
       "234      Ministerio de Educacion                    174          1         74   \n",
       "\n",
       "     Hora_retiro  Tiempo_uso   DuracionViaje  GrupoEdad FranjaRetiro  \n",
       "95             3          27  Media duracion  Jubilados    Madrugada  \n",
       "128            4          19  Media duracion  Jubilados    Madrugada  \n",
       "130            4          23  Media duracion  Jubilados    Madrugada  \n",
       "156            5          12  Corta duracion  Jubilados    Madrugada  \n",
       "234            8          10  Corta duracion  Jubilados       Mañana  "
      ]
     },
     "execution_count": 73,
     "metadata": {},
     "output_type": "execute_result"
    }
   ],
   "source": [
    "e3 = bicis_v3.loc[bicis_v3['GrupoEdad'] == 'Jubilados']\n",
    "\n",
    "Jubilados_corte = e3.iloc[0:e2,:]\n",
    "Jubilados_corte.head()"
   ]
  },
  {
   "cell_type": "code",
   "execution_count": 74,
   "metadata": {},
   "outputs": [
    {
     "data": {
      "text/plain": [
       "(25762, 12)"
      ]
     },
     "execution_count": 74,
     "metadata": {},
     "output_type": "execute_result"
    }
   ],
   "source": [
    "bicis_ML10 = np.concatenate((Menor_de_Edad_corte,Adulo_Joven_corte,Adulo_Mayor_corte,Jubilados_corte), axis=0)\n",
    "bicis_ML10.shape"
   ]
  },
  {
   "cell_type": "code",
   "execution_count": 75,
   "metadata": {
    "scrolled": false
   },
   "outputs": [
    {
     "data": {
      "text/html": [
       "<div>\n",
       "<style scoped>\n",
       "    .dataframe tbody tr th:only-of-type {\n",
       "        vertical-align: middle;\n",
       "    }\n",
       "\n",
       "    .dataframe tbody tr th {\n",
       "        vertical-align: top;\n",
       "    }\n",
       "\n",
       "    .dataframe thead th {\n",
       "        text-align: right;\n",
       "    }\n",
       "</style>\n",
       "<table border=\"1\" class=\"dataframe\">\n",
       "  <thead>\n",
       "    <tr style=\"text-align: right;\">\n",
       "      <th></th>\n",
       "      <th>0</th>\n",
       "      <th>1</th>\n",
       "      <th>2</th>\n",
       "      <th>3</th>\n",
       "      <th>4</th>\n",
       "      <th>5</th>\n",
       "      <th>6</th>\n",
       "      <th>7</th>\n",
       "      <th>8</th>\n",
       "      <th>9</th>\n",
       "      <th>10</th>\n",
       "      <th>11</th>\n",
       "    </tr>\n",
       "  </thead>\n",
       "  <tbody>\n",
       "    <tr>\n",
       "      <th>0</th>\n",
       "      <td>463534</td>\n",
       "      <td>Maipú</td>\n",
       "      <td>36</td>\n",
       "      <td>Sánchez de Bustamante</td>\n",
       "      <td>52</td>\n",
       "      <td>0</td>\n",
       "      <td>18</td>\n",
       "      <td>0</td>\n",
       "      <td>19</td>\n",
       "      <td>Media duracion</td>\n",
       "      <td>Menor de Edad</td>\n",
       "      <td>Madrugada</td>\n",
       "    </tr>\n",
       "    <tr>\n",
       "      <th>1</th>\n",
       "      <td>316451</td>\n",
       "      <td>Plaza Güemes</td>\n",
       "      <td>25</td>\n",
       "      <td>Billinghurst y Valentin Gomez</td>\n",
       "      <td>143</td>\n",
       "      <td>1</td>\n",
       "      <td>18</td>\n",
       "      <td>1</td>\n",
       "      <td>11</td>\n",
       "      <td>Corta duracion</td>\n",
       "      <td>Menor de Edad</td>\n",
       "      <td>Madrugada</td>\n",
       "    </tr>\n",
       "    <tr>\n",
       "      <th>2</th>\n",
       "      <td>288956</td>\n",
       "      <td>Fitz Roy</td>\n",
       "      <td>101</td>\n",
       "      <td>Armenia y Gorriti</td>\n",
       "      <td>142</td>\n",
       "      <td>1</td>\n",
       "      <td>18</td>\n",
       "      <td>3</td>\n",
       "      <td>42</td>\n",
       "      <td>Larga duracion</td>\n",
       "      <td>Menor de Edad</td>\n",
       "      <td>Madrugada</td>\n",
       "    </tr>\n",
       "    <tr>\n",
       "      <th>3</th>\n",
       "      <td>370504</td>\n",
       "      <td>Urquiza</td>\n",
       "      <td>41</td>\n",
       "      <td>Treinta y tres orientales</td>\n",
       "      <td>49</td>\n",
       "      <td>1</td>\n",
       "      <td>18</td>\n",
       "      <td>5</td>\n",
       "      <td>119</td>\n",
       "      <td>Larga duracion</td>\n",
       "      <td>Menor de Edad</td>\n",
       "      <td>Madrugada</td>\n",
       "    </tr>\n",
       "    <tr>\n",
       "      <th>4</th>\n",
       "      <td>316451</td>\n",
       "      <td>Peron y F. Acuña de Figueroa</td>\n",
       "      <td>194</td>\n",
       "      <td>Plaza Güemes</td>\n",
       "      <td>25</td>\n",
       "      <td>1</td>\n",
       "      <td>18</td>\n",
       "      <td>7</td>\n",
       "      <td>16</td>\n",
       "      <td>Media duracion</td>\n",
       "      <td>Menor de Edad</td>\n",
       "      <td>Mañana</td>\n",
       "    </tr>\n",
       "  </tbody>\n",
       "</table>\n",
       "</div>"
      ],
      "text/plain": [
       "       0                             1    2                              3   \\\n",
       "0  463534                         Maipú   36          Sánchez de Bustamante   \n",
       "1  316451                  Plaza Güemes   25  Billinghurst y Valentin Gomez   \n",
       "2  288956                      Fitz Roy  101              Armenia y Gorriti   \n",
       "3  370504                       Urquiza   41      Treinta y tres orientales   \n",
       "4  316451  Peron y F. Acuña de Figueroa  194                   Plaza Güemes   \n",
       "\n",
       "    4  5   6  7    8               9              10         11  \n",
       "0   52  0  18  0   19  Media duracion  Menor de Edad  Madrugada  \n",
       "1  143  1  18  1   11  Corta duracion  Menor de Edad  Madrugada  \n",
       "2  142  1  18  3   42  Larga duracion  Menor de Edad  Madrugada  \n",
       "3   49  1  18  5  119  Larga duracion  Menor de Edad  Madrugada  \n",
       "4   25  1  18  7   16  Media duracion  Menor de Edad     Mañana  "
      ]
     },
     "execution_count": 75,
     "metadata": {},
     "output_type": "execute_result"
    }
   ],
   "source": [
    "ML01 = pd.DataFrame(bicis_ML10)\n",
    "ML01.head()"
   ]
  },
  {
   "cell_type": "code",
   "execution_count": 76,
   "metadata": {},
   "outputs": [],
   "source": [
    "ML01.columns = ['bici_id_usuario','bici_nombre_estacion_origen','bici_estacion_origen',\n",
    "                     'bici_nombre_estacion_destino','bici_estacion_destino','bici_sexo','bici_edad',\"Hora_retiro\",\"Tiempo_uso\",\"DuracionViaje\",\"GrupoEdad\",\"FranjaRetiro\"]"
   ]
  },
  {
   "cell_type": "code",
   "execution_count": 77,
   "metadata": {
    "scrolled": true
   },
   "outputs": [
    {
     "data": {
      "text/html": [
       "<div>\n",
       "<style scoped>\n",
       "    .dataframe tbody tr th:only-of-type {\n",
       "        vertical-align: middle;\n",
       "    }\n",
       "\n",
       "    .dataframe tbody tr th {\n",
       "        vertical-align: top;\n",
       "    }\n",
       "\n",
       "    .dataframe thead th {\n",
       "        text-align: right;\n",
       "    }\n",
       "</style>\n",
       "<table border=\"1\" class=\"dataframe\">\n",
       "  <thead>\n",
       "    <tr style=\"text-align: right;\">\n",
       "      <th></th>\n",
       "      <th>bici_id_usuario</th>\n",
       "      <th>bici_nombre_estacion_origen</th>\n",
       "      <th>bici_estacion_origen</th>\n",
       "      <th>bici_nombre_estacion_destino</th>\n",
       "      <th>bici_estacion_destino</th>\n",
       "      <th>bici_sexo</th>\n",
       "      <th>bici_edad</th>\n",
       "      <th>Hora_retiro</th>\n",
       "      <th>Tiempo_uso</th>\n",
       "      <th>DuracionViaje</th>\n",
       "      <th>GrupoEdad</th>\n",
       "      <th>FranjaRetiro</th>\n",
       "    </tr>\n",
       "  </thead>\n",
       "  <tbody>\n",
       "    <tr>\n",
       "      <th>0</th>\n",
       "      <td>463534</td>\n",
       "      <td>Maipú</td>\n",
       "      <td>36</td>\n",
       "      <td>Sánchez de Bustamante</td>\n",
       "      <td>52</td>\n",
       "      <td>0</td>\n",
       "      <td>18</td>\n",
       "      <td>0</td>\n",
       "      <td>19</td>\n",
       "      <td>Media duracion</td>\n",
       "      <td>Menor de Edad</td>\n",
       "      <td>Madrugada</td>\n",
       "    </tr>\n",
       "    <tr>\n",
       "      <th>1</th>\n",
       "      <td>316451</td>\n",
       "      <td>Plaza Güemes</td>\n",
       "      <td>25</td>\n",
       "      <td>Billinghurst y Valentin Gomez</td>\n",
       "      <td>143</td>\n",
       "      <td>1</td>\n",
       "      <td>18</td>\n",
       "      <td>1</td>\n",
       "      <td>11</td>\n",
       "      <td>Corta duracion</td>\n",
       "      <td>Menor de Edad</td>\n",
       "      <td>Madrugada</td>\n",
       "    </tr>\n",
       "    <tr>\n",
       "      <th>2</th>\n",
       "      <td>288956</td>\n",
       "      <td>Fitz Roy</td>\n",
       "      <td>101</td>\n",
       "      <td>Armenia y Gorriti</td>\n",
       "      <td>142</td>\n",
       "      <td>1</td>\n",
       "      <td>18</td>\n",
       "      <td>3</td>\n",
       "      <td>42</td>\n",
       "      <td>Larga duracion</td>\n",
       "      <td>Menor de Edad</td>\n",
       "      <td>Madrugada</td>\n",
       "    </tr>\n",
       "    <tr>\n",
       "      <th>3</th>\n",
       "      <td>370504</td>\n",
       "      <td>Urquiza</td>\n",
       "      <td>41</td>\n",
       "      <td>Treinta y tres orientales</td>\n",
       "      <td>49</td>\n",
       "      <td>1</td>\n",
       "      <td>18</td>\n",
       "      <td>5</td>\n",
       "      <td>119</td>\n",
       "      <td>Larga duracion</td>\n",
       "      <td>Menor de Edad</td>\n",
       "      <td>Madrugada</td>\n",
       "    </tr>\n",
       "    <tr>\n",
       "      <th>4</th>\n",
       "      <td>316451</td>\n",
       "      <td>Peron y F. Acuña de Figueroa</td>\n",
       "      <td>194</td>\n",
       "      <td>Plaza Güemes</td>\n",
       "      <td>25</td>\n",
       "      <td>1</td>\n",
       "      <td>18</td>\n",
       "      <td>7</td>\n",
       "      <td>16</td>\n",
       "      <td>Media duracion</td>\n",
       "      <td>Menor de Edad</td>\n",
       "      <td>Mañana</td>\n",
       "    </tr>\n",
       "  </tbody>\n",
       "</table>\n",
       "</div>"
      ],
      "text/plain": [
       "  bici_id_usuario   bici_nombre_estacion_origen bici_estacion_origen  \\\n",
       "0          463534                         Maipú                   36   \n",
       "1          316451                  Plaza Güemes                   25   \n",
       "2          288956                      Fitz Roy                  101   \n",
       "3          370504                       Urquiza                   41   \n",
       "4          316451  Peron y F. Acuña de Figueroa                  194   \n",
       "\n",
       "    bici_nombre_estacion_destino bici_estacion_destino bici_sexo bici_edad  \\\n",
       "0          Sánchez de Bustamante                    52         0        18   \n",
       "1  Billinghurst y Valentin Gomez                   143         1        18   \n",
       "2              Armenia y Gorriti                   142         1        18   \n",
       "3      Treinta y tres orientales                    49         1        18   \n",
       "4                   Plaza Güemes                    25         1        18   \n",
       "\n",
       "  Hora_retiro Tiempo_uso   DuracionViaje      GrupoEdad FranjaRetiro  \n",
       "0           0         19  Media duracion  Menor de Edad    Madrugada  \n",
       "1           1         11  Corta duracion  Menor de Edad    Madrugada  \n",
       "2           3         42  Larga duracion  Menor de Edad    Madrugada  \n",
       "3           5        119  Larga duracion  Menor de Edad    Madrugada  \n",
       "4           7         16  Media duracion  Menor de Edad       Mañana  "
      ]
     },
     "execution_count": 77,
     "metadata": {},
     "output_type": "execute_result"
    }
   ],
   "source": [
    "ML01.head()"
   ]
  },
  {
   "cell_type": "markdown",
   "metadata": {},
   "source": [
    "\n",
    "### Vemos una comparativa de muestra original vs reduccion al 1%"
   ]
  },
  {
   "cell_type": "code",
   "execution_count": 78,
   "metadata": {},
   "outputs": [
    {
     "name": "stderr",
     "output_type": "stream",
     "text": [
      "No handles with labels found to put in legend.\n"
     ]
    },
    {
     "data": {
      "image/png": "[encoded data removed]",
      "text/plain": [
       "<Figure size 576x396 with 1 Axes>"
      ]
     },
     "metadata": {},
     "output_type": "display_data"
    }
   ],
   "source": [
    "# Grafico distribucion por edad de usuarios en muestra origal\n",
    "sns.distplot(bicis.bici_edad )\n",
    "plt.title(\"Distribucion de Edad original\")\n",
    "plt.legend()\n",
    "plt.show()"
   ]
  },
  {
   "cell_type": "code",
   "execution_count": 79,
   "metadata": {
    "scrolled": false
   },
   "outputs": [
    {
     "name": "stderr",
     "output_type": "stream",
     "text": [
      "No handles with labels found to put in legend.\n"
     ]
    },
    {
     "data": {
      "image/png": "[encoded data removed]",
      "text/plain": [
       "<Figure size 576x396 with 1 Axes>"
      ]
     },
     "metadata": {},
     "output_type": "display_data"
    }
   ],
   "source": [
    "# Grafico distribucion por edad de usuarios en muestra reducida al 1%\n",
    "sns.distplot(ML01.bici_edad)\n",
    "plt.title(\"Distribucion de Edad con reduccion al 1%\")\n",
    "plt.legend()\n",
    "plt.show()"
   ]
  },
  {
   "cell_type": "code",
   "execution_count": 80,
   "metadata": {},
   "outputs": [
    {
     "data": {
      "text/plain": [
       "33.24418213329866"
      ]
     },
     "execution_count": 80,
     "metadata": {},
     "output_type": "execute_result"
    }
   ],
   "source": [
    "# Media de la mustra original\n",
    "bicis['bici_edad'].mean()"
   ]
  },
  {
   "cell_type": "code",
   "execution_count": 81,
   "metadata": {},
   "outputs": [
    {
     "data": {
      "text/plain": [
       "33.72952410527133"
      ]
     },
     "execution_count": 81,
     "metadata": {},
     "output_type": "execute_result"
    }
   ],
   "source": [
    "# Media de la muestra reducida al 1%\n",
    "ML01['bici_edad'].mean()"
   ]
  },
  {
   "cell_type": "code",
   "execution_count": 82,
   "metadata": {},
   "outputs": [
    {
     "data": {
      "text/plain": [
       "11.12504772726149"
      ]
     },
     "execution_count": 82,
     "metadata": {},
     "output_type": "execute_result"
    }
   ],
   "source": [
    "# Desvio std de la mustra original\n",
    "bicis['bici_edad'].std()"
   ]
  },
  {
   "cell_type": "code",
   "execution_count": 83,
   "metadata": {},
   "outputs": [
    {
     "data": {
      "text/plain": [
       "10.99108991182621"
      ]
     },
     "execution_count": 83,
     "metadata": {},
     "output_type": "execute_result"
    }
   ],
   "source": [
    "# Desvio std de la muestra reducida al 1%\n",
    "ML01['bici_edad'].std()"
   ]
  },
  {
   "cell_type": "markdown",
   "metadata": {},
   "source": [
    "\n",
    "# 4 - Aplicacion de Aprendisaje Supervisado: SVM con CV + KNN"
   ]
  },
  {
   "cell_type": "markdown",
   "metadata": {},
   "source": [
    "### Machine Learning"
   ]
  },
  {
   "cell_type": "code",
   "execution_count": 84,
   "metadata": {},
   "outputs": [],
   "source": [
    "from sklearn import svm\n",
    "from sklearn.svm import SVC\n",
    "from sklearn.model_selection import train_test_split\n",
    "from sklearn.metrics import accuracy_score\n",
    "from sklearn.model_selection import cross_val_score\n",
    "from sklearn import metrics\n",
    "from sklearn.model_selection import GridSearchCV\n",
    "from sklearn.metrics import confusion_matrix\n",
    "from sklearn.neighbors import KNeighborsClassifier"
   ]
  },
  {
   "cell_type": "code",
   "execution_count": 85,
   "metadata": {},
   "outputs": [],
   "source": [
    "# Definimos X e Y para hacer aprendizaje\n",
    "\n",
    "x = pd.concat([ML01[\"bici_edad\"],ML01[\"Tiempo_uso\"]], axis = 1)\n",
    "y = ML01[\"bici_sexo\"]"
   ]
  },
  {
   "cell_type": "code",
   "execution_count": 86,
   "metadata": {
    "scrolled": true
   },
   "outputs": [
    {
     "data": {
      "text/plain": [
       "(25762, 2)"
      ]
     },
     "execution_count": 86,
     "metadata": {},
     "output_type": "execute_result"
    }
   ],
   "source": [
    "np.shape(x)"
   ]
  },
  {
   "cell_type": "code",
   "execution_count": 87,
   "metadata": {},
   "outputs": [
    {
     "data": {
      "text/plain": [
       "(25762,)"
      ]
     },
     "execution_count": 87,
     "metadata": {},
     "output_type": "execute_result"
    }
   ],
   "source": [
    "np.shape(y)"
   ]
  },
  {
   "cell_type": "code",
   "execution_count": 88,
   "metadata": {},
   "outputs": [
    {
     "data": {
      "text/html": [
       "<div>\n",
       "<style scoped>\n",
       "    .dataframe tbody tr th:only-of-type {\n",
       "        vertical-align: middle;\n",
       "    }\n",
       "\n",
       "    .dataframe tbody tr th {\n",
       "        vertical-align: top;\n",
       "    }\n",
       "\n",
       "    .dataframe thead th {\n",
       "        text-align: right;\n",
       "    }\n",
       "</style>\n",
       "<table border=\"1\" class=\"dataframe\">\n",
       "  <thead>\n",
       "    <tr style=\"text-align: right;\">\n",
       "      <th></th>\n",
       "      <th>bici_edad</th>\n",
       "      <th>Tiempo_uso</th>\n",
       "    </tr>\n",
       "  </thead>\n",
       "  <tbody>\n",
       "    <tr>\n",
       "      <th>0</th>\n",
       "      <td>18</td>\n",
       "      <td>19</td>\n",
       "    </tr>\n",
       "    <tr>\n",
       "      <th>1</th>\n",
       "      <td>18</td>\n",
       "      <td>11</td>\n",
       "    </tr>\n",
       "    <tr>\n",
       "      <th>2</th>\n",
       "      <td>18</td>\n",
       "      <td>42</td>\n",
       "    </tr>\n",
       "    <tr>\n",
       "      <th>3</th>\n",
       "      <td>18</td>\n",
       "      <td>119</td>\n",
       "    </tr>\n",
       "    <tr>\n",
       "      <th>4</th>\n",
       "      <td>18</td>\n",
       "      <td>16</td>\n",
       "    </tr>\n",
       "  </tbody>\n",
       "</table>\n",
       "</div>"
      ],
      "text/plain": [
       "  bici_edad Tiempo_uso\n",
       "0        18         19\n",
       "1        18         11\n",
       "2        18         42\n",
       "3        18        119\n",
       "4        18         16"
      ]
     },
     "execution_count": 88,
     "metadata": {},
     "output_type": "execute_result"
    }
   ],
   "source": [
    "x.head()"
   ]
  },
  {
   "cell_type": "code",
   "execution_count": 89,
   "metadata": {},
   "outputs": [
    {
     "data": {
      "text/plain": [
       "0    0\n",
       "1    1\n",
       "2    1\n",
       "3    1\n",
       "4    1\n",
       "Name: bici_sexo, dtype: object"
      ]
     },
     "execution_count": 89,
     "metadata": {},
     "output_type": "execute_result"
    }
   ],
   "source": [
    "y.head()"
   ]
  },
  {
   "cell_type": "code",
   "execution_count": 90,
   "metadata": {},
   "outputs": [],
   "source": [
    "# Defino un label encoder que transforma las etiquetas de string a INT.\n",
    "le = preprocessing.LabelEncoder()\n",
    "# Definimos Y con las etiquetas numericas obtenidas del label encoder\n",
    "y = le.fit_transform(y)"
   ]
  },
  {
   "cell_type": "code",
   "execution_count": 91,
   "metadata": {},
   "outputs": [
    {
     "data": {
      "text/plain": [
       "array([0, 1, 1, ..., 1, 1, 1])"
      ]
     },
     "execution_count": 91,
     "metadata": {},
     "output_type": "execute_result"
    }
   ],
   "source": [
    "y"
   ]
  },
  {
   "cell_type": "markdown",
   "metadata": {},
   "source": [
    "### Definimos Train y Test"
   ]
  },
  {
   "cell_type": "code",
   "execution_count": 92,
   "metadata": {},
   "outputs": [],
   "source": [
    "xtrain, xtest, ytrain, ytest = train_test_split(x, y, test_size=0.3, random_state=4)"
   ]
  },
  {
   "cell_type": "code",
   "execution_count": 93,
   "metadata": {},
   "outputs": [
    {
     "data": {
      "text/plain": [
       "StandardScaler(copy=True, with_mean=True, with_std=True)"
      ]
     },
     "execution_count": 93,
     "metadata": {},
     "output_type": "execute_result"
    }
   ],
   "source": [
    "xscaler = preprocessing.StandardScaler().fit(xtrain)\n",
    "xscaler"
   ]
  },
  {
   "cell_type": "code",
   "execution_count": 94,
   "metadata": {},
   "outputs": [],
   "source": [
    "# xtrain_scal tendra el dataset de train pre-procesado con el standard scaler\n",
    "# xtest_scal tendra el dataset de test pre-procesado con el standard scaler\n",
    "xtrain_scal = xscaler.transform(xtrain)  \n",
    "xtest_scal = xscaler.transform(xtest) "
   ]
  },
  {
   "cell_type": "markdown",
   "metadata": {},
   "source": [
    "###  Support Vector Machines con Cross Validation"
   ]
  },
  {
   "cell_type": "code",
   "execution_count": 95,
   "metadata": {},
   "outputs": [],
   "source": [
    "params_svm = {'kernel':['linear', 'rbf'], 'C':[0.1 , 1], 'gamma':[0.01, 0.1]}\n",
    "svc = svm.SVC(probability=True)\n",
    "svm_cv = GridSearchCV(svc, param_grid = params_svm, refit = True ,cv = 3)"
   ]
  },
  {
   "cell_type": "code",
   "execution_count": 96,
   "metadata": {},
   "outputs": [
    {
     "data": {
      "text/plain": [
       "GridSearchCV(cv=3, error_score='raise-deprecating',\n",
       "             estimator=SVC(C=1.0, cache_size=200, class_weight=None, coef0=0.0,\n",
       "                           decision_function_shape='ovr', degree=3,\n",
       "                           gamma='auto_deprecated', kernel='rbf', max_iter=-1,\n",
       "                           probability=True, random_state=None, shrinking=True,\n",
       "                           tol=0.001, verbose=False),\n",
       "             iid='warn', n_jobs=None,\n",
       "             param_grid={'C': [0.1, 1], 'gamma': [0.01, 0.1],\n",
       "                         'kernel': ['linear', 'rbf']},\n",
       "             pre_dispatch='2*n_jobs', refit=True, return_train_score=False,\n",
       "             scoring=None, verbose=0)"
      ]
     },
     "execution_count": 96,
     "metadata": {},
     "output_type": "execute_result"
    }
   ],
   "source": [
    "svm_cv.fit(xtrain_scal, ytrain.ravel())"
   ]
  },
  {
   "cell_type": "code",
   "execution_count": 97,
   "metadata": {},
   "outputs": [
    {
     "name": "stdout",
     "output_type": "stream",
     "text": [
      "Los mejores parametros son {'C': 0.1, 'gamma': 0.01, 'kernel': 'linear'} con resultado de 0.73\n"
     ]
    }
   ],
   "source": [
    "print(\"Los mejores parametros son %s con resultado de %0.2f\" % (svm_cv.best_params_, svm_cv.best_score_))"
   ]
  },
  {
   "cell_type": "code",
   "execution_count": 98,
   "metadata": {},
   "outputs": [
    {
     "name": "stdout",
     "output_type": "stream",
     "text": [
      "El accuracy train con SVM es 0.7252259746021184\n",
      "El accuracy test con SVM es 0.7299780049165481\n"
     ]
    }
   ],
   "source": [
    "ypred_svm=svm_cv.predict(xtrain_scal)\n",
    "train_acc_svm=accuracy_score(ytrain, ypred_svm)\n",
    "print(\"El accuracy train con SVM es \" + str(train_acc_svm))\n",
    "ypred2_svm=svm_cv.predict(xtest_scal)\n",
    "test_acc_svm=accuracy_score(ytest, ypred2_svm)\n",
    "print(\"El accuracy test con SVM es \" + str(test_acc_svm))"
   ]
  },
  {
   "cell_type": "markdown",
   "metadata": {},
   "source": [
    "#### Matriz de confusion SVM"
   ]
  },
  {
   "cell_type": "code",
   "execution_count": 99,
   "metadata": {},
   "outputs": [
    {
     "data": {
      "image/png": "[encoded data removed]",
      "text/plain": [
       "<Figure size 432x288 with 2 Axes>"
      ]
     },
     "metadata": {},
     "output_type": "display_data"
    }
   ],
   "source": [
    "cm_svm = confusion_matrix(ytest, ypred2_svm)\n",
    "cm_svm2 = pd.DataFrame(cm_svm, index = ['Tipo 0', 'Tipo 1'], columns = ['Tipo 0', 'Tipo 1'])\n",
    "plt.figure(figsize = (6,4))\n",
    "sns.heatmap(cm_svm2, annot=True , fmt='g')\n",
    "plt.title('Matriz de confusion Parcial')\n",
    "plt.show()"
   ]
  },
  {
   "cell_type": "markdown",
   "metadata": {},
   "source": [
    "\n",
    "### K-Nearest-Neighbor"
   ]
  },
  {
   "cell_type": "code",
   "execution_count": 100,
   "metadata": {},
   "outputs": [],
   "source": [
    "# Defino modelo KNN llamado \"neigh\" y le asigno el hiper-parametro n_neighbors = 5\n",
    "neigh = KNeighborsClassifier(n_neighbors=5)"
   ]
  },
  {
   "cell_type": "code",
   "execution_count": 101,
   "metadata": {},
   "outputs": [
    {
     "data": {
      "text/plain": [
       "KNeighborsClassifier(algorithm='auto', leaf_size=30, metric='minkowski',\n",
       "                     metric_params=None, n_jobs=None, n_neighbors=5, p=2,\n",
       "                     weights='uniform')"
      ]
     },
     "execution_count": 101,
     "metadata": {},
     "output_type": "execute_result"
    }
   ],
   "source": [
    "neigh.fit(xtrain_scal, ytrain.ravel()) "
   ]
  },
  {
   "cell_type": "code",
   "execution_count": 102,
   "metadata": {},
   "outputs": [],
   "source": [
    "ypred = neigh.predict(xtest_scal)"
   ]
  },
  {
   "cell_type": "code",
   "execution_count": 103,
   "metadata": {},
   "outputs": [
    {
     "name": "stdout",
     "output_type": "stream",
     "text": [
      "El accuracy es 0.6762841247250615\n"
     ]
    }
   ],
   "source": [
    "test_acc = accuracy_score(ytest, ypred)\n",
    "print(\"El accuracy es \" + str(test_acc))"
   ]
  },
  {
   "cell_type": "markdown",
   "metadata": {},
   "source": [
    "\n",
    "#### Matriz de confusion KNN"
   ]
  },
  {
   "cell_type": "code",
   "execution_count": 104,
   "metadata": {},
   "outputs": [
    {
     "data": {
      "image/png": "[encoded data removed]",
      "text/plain": [
       "<Figure size 432x288 with 2 Axes>"
      ]
     },
     "metadata": {},
     "output_type": "display_data"
    }
   ],
   "source": [
    "cm_knn = confusion_matrix(ytest, ypred)\n",
    "cm_knn2 = pd.DataFrame(cm_knn, index = ['Tipo 0', 'Tipo 1'], columns = ['Tipo 0', 'Tipo 1'])\n",
    "plt.figure(figsize = (6,4))\n",
    "sns.heatmap(cm_knn2, annot=True , fmt='g')\n",
    "plt.title('Matriz de confusion')\n",
    "plt.show()"
   ]
  }
 ],
 "metadata": {
  "kernelspec": {
   "display_name": "Python 3",
   "language": "python",
   "name": "python3"
  },
  "language_info": {
   "codemirror_mode": {
    "name": "ipython",
    "version": 3
   },
   "file_extension": ".py",
   "mimetype": "text/x-python",
   "name": "python",
   "nbconvert_exporter": "python",
   "pygments_lexer": "ipython3",
   "version": "3.7.3"
  }
 },
 "nbformat": 4,
 "nbformat_minor": 2
}
